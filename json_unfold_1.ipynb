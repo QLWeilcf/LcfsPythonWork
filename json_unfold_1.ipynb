{
 "cells": [
  {
   "cell_type": "code",
   "execution_count": 2,
   "metadata": {},
   "outputs": [],
   "source": [
    "import json\n",
    "import pandas as pd\n",
    "import traceback"
   ]
  },
  {
   "cell_type": "code",
   "execution_count": 3,
   "metadata": {},
   "outputs": [
    {
     "data": {
      "text/html": [
       "<div>\n",
       "<style scoped>\n",
       "    .dataframe tbody tr th:only-of-type {\n",
       "        vertical-align: middle;\n",
       "    }\n",
       "\n",
       "    .dataframe tbody tr th {\n",
       "        vertical-align: top;\n",
       "    }\n",
       "\n",
       "    .dataframe thead th {\n",
       "        text-align: right;\n",
       "    }\n",
       "</style>\n",
       "<table border=\"1\" class=\"dataframe\">\n",
       "  <thead>\n",
       "    <tr style=\"text-align: right;\">\n",
       "      <th></th>\n",
       "      <th>序号</th>\n",
       "      <th>标注人员</th>\n",
       "      <th>标注结果</th>\n",
       "    </tr>\n",
       "  </thead>\n",
       "  <tbody>\n",
       "    <tr>\n",
       "      <th>0</th>\n",
       "      <td>1</td>\n",
       "      <td>王小二</td>\n",
       "      <td>[{\"tags\":[\"123\",\"231\"],\"cc\":{\"tags\":54,\"data\":...</td>\n",
       "    </tr>\n",
       "  </tbody>\n",
       "</table>\n",
       "</div>"
      ],
      "text/plain": [
       "   序号 标注人员                                               标注结果\n",
       "0   1  王小二  [{\"tags\":[\"123\",\"231\"],\"cc\":{\"tags\":54,\"data\":..."
      ]
     },
     "execution_count": 3,
     "metadata": {},
     "output_type": "execute_result"
    }
   ],
   "source": [
    "df=pd.read_excel('data.xlsx')\n",
    "c0=df.columns\n",
    "df.head(1)"
   ]
  },
  {
   "cell_type": "code",
   "execution_count": 4,
   "metadata": {},
   "outputs": [],
   "source": [
    "def df_to_json(df):\n",
    "    #找到json列\n",
    "    jc=''\n",
    "    for c in df.columns:\n",
    "        a0=str(list(df[c]))\n",
    "        if '{' in a0 and ':' in a0 and '[' in a0:\n",
    "            jc=c\n",
    "    if jc=='':\n",
    "        return []\n",
    "    res=[]\n",
    "    for i,c in df.iterrows():\n",
    "        r0={}\n",
    "        for col in df.columns:\n",
    "            if col!=jc:\n",
    "                r0[col]=c[col]\n",
    "            else:\n",
    "                try:\n",
    "                    if type(c[col])!=str:\n",
    "                        r0[col]=[]\n",
    "                    else:\n",
    "                        r0[col]=json.loads(c[col])\n",
    "                except:\n",
    "                    print(traceback.format_exc())\n",
    "        res.append(r0.copy())\n",
    "    return res\n",
    "r00=df_to_json(df)"
   ]
  },
  {
   "cell_type": "code",
   "execution_count": 35,
   "metadata": {},
   "outputs": [],
   "source": [
    "def unfolds(js,k0='',kvs=[]):\n",
    "    ojs={}\n",
    "    for k,v in js.items():\n",
    "        if type(v)==dict:\n",
    "            ojs1=ojs.copy()\n",
    "            ojs.update(unfolds(v,k,ojs1.keys()))\n",
    "        else:\n",
    "            if k in kvs:\n",
    "                ojs['{0}_{1}'.format(k0,k)]=v\n",
    "            elif ojs.get(k,0)==0:\n",
    "                ojs[k]=v\n",
    "            else:#有这一个k了\n",
    "                if k0=='':\n",
    "                    ojs[k]=v\n",
    "                else:\n",
    "                    ojs['{0}_{1}'.format(k0,k)]=v\n",
    "    return ojs"
   ]
  },
  {
   "cell_type": "code",
   "execution_count": 41,
   "metadata": {},
   "outputs": [],
   "source": [
    "def unfolds(js,k0=''):\n",
    "    ojs={}\n",
    "    for k,v in js.items():\n",
    "        if type(v)==dict:\n",
    "            ojs.update(unfolds(v,k))\n",
    "        elif k0=='':\n",
    "            ojs[k]=v\n",
    "        else:\n",
    "            ojs['{0}_{1}'.format(k0,k)]=v\n",
    "    return ojs"
   ]
  },
  {
   "cell_type": "code",
   "execution_count": 42,
   "metadata": {},
   "outputs": [],
   "source": [
    "def ex_aa(aa,bb,cc=''):\n",
    "    f=0\n",
    "    rc=bb.copy()\n",
    "    aa=unfolds(aa,cc)\n",
    "    ks=[]\n",
    "    for k,v in aa.items():\n",
    "        if type(v)!=list:\n",
    "            if rc.get(k,0)==0:\n",
    "                rc[k]=v\n",
    "            else:\n",
    "                rc['{0}_{1}'.format(cc,k)]=v\n",
    "        elif v==[]:\n",
    "            pass\n",
    "            #rc[k]='[]'\n",
    "        else:#list\n",
    "            if type(v[0])==dict:\n",
    "                f+=1\n",
    "                ks.append(k) #假设有多个列表的情况\n",
    "            else:\n",
    "                if rc.get(k,0)==0:\n",
    "                    rc[k]=str(v)\n",
    "                else:\n",
    "                    rc['{0}_{1}'.format(cc,k)]=str(v)\n",
    "    if f==0:\n",
    "        rc.update(bb)\n",
    "        return [rc]\n",
    "    else:\n",
    "        w=[]\n",
    "        for i in aa[ks[0]]:\n",
    "            w.extend(ex_aa(i,rc,ks[0]))\n",
    "        return w"
   ]
  },
  {
   "cell_type": "code",
   "execution_count": 43,
   "metadata": {},
   "outputs": [
    {
     "data": {
      "text/plain": [
       "[{'序号': 1,\n",
       "  '标注人员': '王小二',\n",
       "  '标注结果_tags': \"['123', '231']\",\n",
       "  'cc_tags': 54,\n",
       "  'cc_data': 'cc',\n",
       "  '标注结果_username': '张三',\n",
       "  '标注结果_infos_地点': '北京',\n",
       "  '标注结果_infos_爱好': '足球'},\n",
       " {'序号': 1,\n",
       "  '标注人员': '王小二',\n",
       "  '标注结果_tags': \"['123', '231']\",\n",
       "  'cc_tags': 54,\n",
       "  'cc_data': 'cc',\n",
       "  '标注结果_username': '张三',\n",
       "  '标注结果_infos_地点': '天津',\n",
       "  '标注结果_infos_爱好': '篮球'},\n",
       " {'序号': 1,\n",
       "  '标注人员': '王小二',\n",
       "  '标注结果_tags': \"['23', '2931']\",\n",
       "  '标注结果_username': '火星',\n",
       "  '标注结果_infos_地点': '天津',\n",
       "  '标注结果_infos_爱好': '足球'},\n",
       " {'序号': 2, '标注人员': '王小二'},\n",
       " {'序号': 3,\n",
       "  '标注人员': '杨六',\n",
       "  '标注结果_tags': \"['96', 'f2931']\",\n",
       "  '标注结果_username': '楼满月',\n",
       "  '标注结果_infos_地点': '湖北',\n",
       "  '标注结果_infos_爱好': '足球'}]"
      ]
     },
     "execution_count": 43,
     "metadata": {},
     "output_type": "execute_result"
    }
   ],
   "source": [
    "res=[]\n",
    "for i in r00:\n",
    "    res.extend(ex_aa(i,{}))\n",
    "res"
   ]
  },
  {
   "cell_type": "code",
   "execution_count": null,
   "metadata": {},
   "outputs": [],
   "source": []
  },
  {
   "cell_type": "code",
   "execution_count": 25,
   "metadata": {},
   "outputs": [
    {
     "data": {
      "text/plain": [
       "[{'序号': 1,\n",
       "  '标注人员': '王小二',\n",
       "  '标注结果': [{'tags': ['123', '231'],\n",
       "    'cc': {'tags': 54, 'data': 'cc'},\n",
       "    'username': '张三',\n",
       "    'infos': [{'地点': '北京', '爱好': '足球'}, {'地点': '天津', '爱好': '篮球'}]},\n",
       "   {'tags': ['23', '2931'],\n",
       "    'username': '火星',\n",
       "    'infos': [{'地点': '天津', '爱好': '足球'}]}]},\n",
       " {'序号': 2, '标注人员': '王小二', '标注结果': []},\n",
       " {'序号': 3,\n",
       "  '标注人员': '杨六',\n",
       "  '标注结果': {'tags': ['96', 'f2931'],\n",
       "   'username': '楼满月',\n",
       "   'infos': [{'地点': '湖北', '爱好': '足球'}]}}]"
      ]
     },
     "execution_count": 25,
     "metadata": {},
     "output_type": "execute_result"
    }
   ],
   "source": [
    "r00"
   ]
  },
  {
   "cell_type": "code",
   "execution_count": 44,
   "metadata": {},
   "outputs": [
    {
     "data": {
      "text/html": [
       "<div>\n",
       "<style scoped>\n",
       "    .dataframe tbody tr th:only-of-type {\n",
       "        vertical-align: middle;\n",
       "    }\n",
       "\n",
       "    .dataframe tbody tr th {\n",
       "        vertical-align: top;\n",
       "    }\n",
       "\n",
       "    .dataframe thead th {\n",
       "        text-align: right;\n",
       "    }\n",
       "</style>\n",
       "<table border=\"1\" class=\"dataframe\">\n",
       "  <thead>\n",
       "    <tr style=\"text-align: right;\">\n",
       "      <th></th>\n",
       "      <th>cc_data</th>\n",
       "      <th>cc_tags</th>\n",
       "      <th>序号</th>\n",
       "      <th>标注人员</th>\n",
       "      <th>标注结果_infos_地点</th>\n",
       "      <th>标注结果_infos_爱好</th>\n",
       "      <th>标注结果_tags</th>\n",
       "      <th>标注结果_username</th>\n",
       "    </tr>\n",
       "  </thead>\n",
       "  <tbody>\n",
       "    <tr>\n",
       "      <th>0</th>\n",
       "      <td>cc</td>\n",
       "      <td>54.0</td>\n",
       "      <td>1</td>\n",
       "      <td>王小二</td>\n",
       "      <td>北京</td>\n",
       "      <td>足球</td>\n",
       "      <td>['123', '231']</td>\n",
       "      <td>张三</td>\n",
       "    </tr>\n",
       "    <tr>\n",
       "      <th>1</th>\n",
       "      <td>cc</td>\n",
       "      <td>54.0</td>\n",
       "      <td>1</td>\n",
       "      <td>王小二</td>\n",
       "      <td>天津</td>\n",
       "      <td>篮球</td>\n",
       "      <td>['123', '231']</td>\n",
       "      <td>张三</td>\n",
       "    </tr>\n",
       "    <tr>\n",
       "      <th>2</th>\n",
       "      <td>NaN</td>\n",
       "      <td>NaN</td>\n",
       "      <td>1</td>\n",
       "      <td>王小二</td>\n",
       "      <td>天津</td>\n",
       "      <td>足球</td>\n",
       "      <td>['23', '2931']</td>\n",
       "      <td>火星</td>\n",
       "    </tr>\n",
       "    <tr>\n",
       "      <th>3</th>\n",
       "      <td>NaN</td>\n",
       "      <td>NaN</td>\n",
       "      <td>2</td>\n",
       "      <td>王小二</td>\n",
       "      <td>NaN</td>\n",
       "      <td>NaN</td>\n",
       "      <td>NaN</td>\n",
       "      <td>NaN</td>\n",
       "    </tr>\n",
       "    <tr>\n",
       "      <th>4</th>\n",
       "      <td>NaN</td>\n",
       "      <td>NaN</td>\n",
       "      <td>3</td>\n",
       "      <td>杨六</td>\n",
       "      <td>湖北</td>\n",
       "      <td>足球</td>\n",
       "      <td>['96', 'f2931']</td>\n",
       "      <td>楼满月</td>\n",
       "    </tr>\n",
       "  </tbody>\n",
       "</table>\n",
       "</div>"
      ],
      "text/plain": [
       "  cc_data  cc_tags  序号 标注人员 标注结果_infos_地点 标注结果_infos_爱好        标注结果_tags  \\\n",
       "0      cc     54.0   1  王小二            北京            足球   ['123', '231']   \n",
       "1      cc     54.0   1  王小二            天津            篮球   ['123', '231']   \n",
       "2     NaN      NaN   1  王小二            天津            足球   ['23', '2931']   \n",
       "3     NaN      NaN   2  王小二           NaN           NaN              NaN   \n",
       "4     NaN      NaN   3   杨六            湖北            足球  ['96', 'f2931']   \n",
       "\n",
       "  标注结果_username  \n",
       "0            张三  \n",
       "1            张三  \n",
       "2            火星  \n",
       "3           NaN  \n",
       "4           楼满月  "
      ]
     },
     "execution_count": 44,
     "metadata": {},
     "output_type": "execute_result"
    }
   ],
   "source": [
    "pd.DataFrame(res)"
   ]
  },
  {
   "cell_type": "code",
   "execution_count": null,
   "metadata": {},
   "outputs": [],
   "source": [
    "out=pd.DataFrame(res)"
   ]
  },
  {
   "cell_type": "code",
   "execution_count": null,
   "metadata": {},
   "outputs": [],
   "source": [
    "for i in out.columns:\n",
    "    if i not in c0:\n",
    "        c0.append(i)\n",
    "c1=[]\n",
    "for i in c0:\n",
    "    if i in out.columns:\n",
    "        c1.append(i)\n",
    "        \n",
    "out=out.loc[:,c1]"
   ]
  },
  {
   "cell_type": "code",
   "execution_count": null,
   "metadata": {},
   "outputs": [],
   "source": [
    "out.to_excel('data-out.xlsx',index=False)"
   ]
  },
  {
   "cell_type": "code",
   "execution_count": null,
   "metadata": {},
   "outputs": [],
   "source": []
  },
  {
   "cell_type": "code",
   "execution_count": null,
   "metadata": {},
   "outputs": [],
   "source": []
  },
  {
   "cell_type": "code",
   "execution_count": null,
   "metadata": {},
   "outputs": [],
   "source": []
  },
  {
   "cell_type": "code",
   "execution_count": null,
   "metadata": {},
   "outputs": [],
   "source": []
  },
  {
   "cell_type": "code",
   "execution_count": null,
   "metadata": {},
   "outputs": [],
   "source": []
  },
  {
   "cell_type": "code",
   "execution_count": null,
   "metadata": {},
   "outputs": [],
   "source": []
  },
  {
   "cell_type": "code",
   "execution_count": 20,
   "metadata": {},
   "outputs": [
    {
     "data": {
      "text/plain": [
       "[{'序号': 1,\n",
       "  '标注人员': '王小二',\n",
       "  '标注结果': [{'tags': ['123', '231'],\n",
       "    'cc': {'tags': 54, 'data': 'cc'},\n",
       "    'username': '张三',\n",
       "    'infos': [{'地点': '北京', '爱好': '足球'}, {'地点': '天津', '爱好': '篮球'}]},\n",
       "   {'tags': ['23', '2931'],\n",
       "    'username': '火星',\n",
       "    'infos': [{'地点': '天津', '爱好': '足球'}]}]},\n",
       " {'序号': 2, '标注人员': '王小二', '标注结果': []},\n",
       " {'序号': 3,\n",
       "  '标注人员': '杨六',\n",
       "  '标注结果': {'tags': ['96', 'f2931'],\n",
       "   'username': '楼满月',\n",
       "   'infos': [{'地点': '湖北', '爱好': '足球'}]}}]"
      ]
     },
     "execution_count": 20,
     "metadata": {},
     "output_type": "execute_result"
    }
   ],
   "source": [
    "r00"
   ]
  },
  {
   "cell_type": "code",
   "execution_count": 41,
   "metadata": {},
   "outputs": [
    {
     "data": {
      "text/plain": [
       "[{'b': 2, 'aa': 1, 'aaa': 31, 'bbb': 32},\n",
       " {'b': 2, 'aa': 1, 'aaa': 41, 'bbb': 42},\n",
       " {'b': 2, 'aa': 11}]"
      ]
     },
     "execution_count": 41,
     "metadata": {},
     "output_type": "execute_result"
    }
   ],
   "source": [
    "aa={'a':[{'aa':1,'bb':[{'aaa':31,'bbb':32},{'aaa':41,'bbb':42}]},{'aa':11}],'b':2}\n",
    "ex_aa(aa,{})"
   ]
  },
  {
   "cell_type": "code",
   "execution_count": 34,
   "metadata": {},
   "outputs": [
    {
     "data": {
      "text/plain": [
       "True"
      ]
     },
     "execution_count": 34,
     "metadata": {},
     "output_type": "execute_result"
    }
   ],
   "source": [
    "aa={'a':[{'aa':1,'bb':[{'aaa':31,'bbb':32},{'aaa':41,'bbb':42}]},{'aa':11}],'b':2}\n",
    "'a' in aa.keys()"
   ]
  }
 ],
 "metadata": {
  "kernelspec": {
   "display_name": "Python 3",
   "language": "python",
   "name": "python3"
  },
  "language_info": {
   "codemirror_mode": {
    "name": "ipython",
    "version": 3
   },
   "file_extension": ".py",
   "mimetype": "text/x-python",
   "name": "python",
   "nbconvert_exporter": "python",
   "pygments_lexer": "ipython3",
   "version": "3.7.0"
  },
  "toc": {
   "base_numbering": 1,
   "nav_menu": {},
   "number_sections": true,
   "sideBar": true,
   "skip_h1_title": false,
   "title_cell": "Table of Contents",
   "title_sidebar": "Contents",
   "toc_cell": false,
   "toc_position": {},
   "toc_section_display": true,
   "toc_window_display": false
  }
 },
 "nbformat": 4,
 "nbformat_minor": 2
}
