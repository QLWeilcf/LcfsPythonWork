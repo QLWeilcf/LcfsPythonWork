{
 "cells": [
  {
   "cell_type": "markdown",
   "metadata": {},
   "source": [
    "# 从招聘数据看数据分析职位\n",
    "\n",
    "构建一个能较好地分析**数据分析**职位的代码集；同时尽量保持其通用性，也就是分析其他职位也能快速从本代码中衍生出来。"
   ]
  },
  {
   "cell_type": "markdown",
   "metadata": {},
   "source": [
    "**目录 contents**\n",
    "\n",
    "\n",
    "1\n",
    "\n",
    "2"
   ]
  },
  {
   "cell_type": "markdown",
   "metadata": {},
   "source": [
    "## 分析目标\n",
    "\n",
    "通过实践深入了解数据分析职位特点，包括职位要求，工作地点分布，任职资格，薪资等；实践爬虫、数据分析、可视化；"
   ]
  },
  {
   "cell_type": "markdown",
   "metadata": {},
   "source": [
    "## 数据获取"
   ]
  },
  {
   "cell_type": "code",
   "execution_count": null,
   "metadata": {
    "collapsed": true
   },
   "outputs": [],
   "source": []
  },
  {
   "cell_type": "markdown",
   "metadata": {},
   "source": [
    "## 预处理"
   ]
  },
  {
   "cell_type": "markdown",
   "metadata": {},
   "source": [
    "## 分析与可视化"
   ]
  },
  {
   "cell_type": "markdown",
   "metadata": {},
   "source": [
    "## 总结\n",
    "\n",
    "上面的一些结论；\n",
    "值得改进的地方；存在的问题；"
   ]
  },
  {
   "cell_type": "markdown",
   "metadata": {},
   "source": [
    "#### 参考资料\n",
    "- [秦路的《如何七周成为数据分析师》系列](11)\n",
    "\n",
    "- [数据分析师的月薪是多少？爬取一家网站给大家看看](https://img.youth.cn/article/s?uid=8823584&app_version=1.2.2&time=1520590698&signature=9glp5xY6RDENobMmkVO75L9PJUZXLjP48GPZQwnj20JBreK3Ay&sign=4d7874a5138def1e623638fbe3a13c2d&mType=Group)"
   ]
  }
 ],
 "metadata": {
  "kernelspec": {
   "display_name": "Python 3",
   "language": "python",
   "name": "python3"
  },
  "language_info": {
   "codemirror_mode": {
    "name": "ipython",
    "version": 3
   },
   "file_extension": ".py",
   "mimetype": "text/x-python",
   "name": "python",
   "nbconvert_exporter": "python",
   "pygments_lexer": "ipython3",
   "version": "3.6.0"
  }
 },
 "nbformat": 4,
 "nbformat_minor": 2
}
