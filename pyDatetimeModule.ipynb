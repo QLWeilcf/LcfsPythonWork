{
 "cells": [
  {
   "cell_type": "markdown",
   "metadata": {},
   "source": [
    "Python中时间对象处理库的学习实践\n",
    "\n",
    "## 模块概览\n",
    "- time\n",
    "- datetime\n",
    "- pandas pd.Timestamp\n",
    "- timeit\n",
    "- arrow\n",
    "- delorean\n",
    "- calendar\n",
    "\n",
    "\n",
    "\n",
    "## 解决需求\n",
    "\n",
    "- 生成时间对象，从字符串或者写一个赋值语句得到一个时间对象；从内置的时间对象转为该库的时间对象，例如数据列是从Excel读入的，去解析这个列为时间对象；\n",
    "- 获取当前时间\n",
    "- 对特定时间对象t，获取年月日、分钟等；\n",
    "- 时间运算；\n",
    "  - 时间差值Timedelta，两个时间对象相减；\n",
    "  - 一个时间对象+一个差值后得到新的时间对象，例如获取t 1周后的时间t2,\n",
    "- 时间对象转为特定格式的字符串 .strftime('%Y/%m/%d')\n",
    "  - %d的具体对应表，权威资料\n",
    "- 时间序列分析  \n",
    "\n",
    "## 模块实践\n",
    "\n",
    "### time\n",
    "\n"
   ]
  },
  {
   "cell_type": "code",
   "execution_count": 1,
   "metadata": {},
   "outputs": [],
   "source": [
    "import time"
   ]
  },
  {
   "cell_type": "code",
   "execution_count": 3,
   "metadata": {},
   "outputs": [
    {
     "name": "stdout",
     "output_type": "stream",
     "text": [
      "1607319973.7645762\n",
      "time.struct_time(tm_year=2020, tm_mon=12, tm_mday=7, tm_hour=13, tm_min=46, tm_sec=13, tm_wday=0, tm_yday=342, tm_isdst=0)\n"
     ]
    }
   ],
   "source": [
    "#没有now，但可以用time.time() 得到当前时间戳Timestamp\n",
    "print(time.time())\n",
    "print(time.localtime()) #localtime([secs])：将一个时间戳转换为当前时区的struct_time。secs参数未提供，则以当前时间为准。"
   ]
  },
  {
   "cell_type": "code",
   "execution_count": 4,
   "metadata": {},
   "outputs": [
    {
     "name": "stdout",
     "output_type": "stream",
     "text": [
      "time.struct_time(tm_year=2020, tm_mon=12, tm_mday=7, tm_hour=5, tm_min=48, tm_sec=8, tm_wday=0, tm_yday=342, tm_isdst=0)\n"
     ]
    },
    {
     "data": {
      "text/plain": [
       "1607320088.0"
      ]
     },
     "execution_count": 4,
     "metadata": {},
     "output_type": "execute_result"
    }
   ],
   "source": [
    "print(time.gmtime(time.time())) #时间戳转struct_time\n",
    "#gmtime和localtime不传参数时，它们内部会调用time.time()做输入进行转换。\n",
    "time.mktime(time.localtime()) #struct_time转时间戳"
   ]
  },
  {
   "cell_type": "code",
   "execution_count": 21,
   "metadata": {},
   "outputs": [
    {
     "data": {
      "text/plain": [
       "float"
      ]
     },
     "execution_count": 21,
     "metadata": {},
     "output_type": "execute_result"
    }
   ],
   "source": [
    "type(time.time())  #是直接用float存"
   ]
  },
  {
   "cell_type": "markdown",
   "metadata": {},
   "source": [
    "calendar.timegm() 把UTC的struct_time转为从epoch开始的秒数，而mktime是把时区调整过的struct_time(即localtime的返回对象)对象转为从epoch开始的秒数"
   ]
  },
  {
   "cell_type": "code",
   "execution_count": 52,
   "metadata": {},
   "outputs": [
    {
     "name": "stdout",
     "output_type": "stream",
     "text": [
      "2020-12-08 16:52:36\n"
     ]
    },
    {
     "data": {
      "text/plain": [
       "time.struct_time(tm_year=2020, tm_mon=12, tm_mday=7, tm_hour=13, tm_min=52, tm_sec=15, tm_wday=0, tm_yday=342, tm_isdst=-1)"
      ]
     },
     "execution_count": 52,
     "metadata": {},
     "output_type": "execute_result"
    }
   ],
   "source": [
    "t=time.localtime()\n",
    "print(time.strftime(\"%Y-%m-%d %H:%M:%S\",t)) #struct_time 转格式化字符串\n",
    "#string format time 字符串格式化时间；string parse time 从字符串中解析时间\n",
    "time.strptime('2020-12-7 13:52:15',\"%Y-%m-%d %H:%M:%S\") #字符串转struct_time"
   ]
  },
  {
   "cell_type": "code",
   "execution_count": 54,
   "metadata": {},
   "outputs": [
    {
     "data": {
      "text/plain": [
       "time.struct_time(tm_year=2020, tm_mon=12, tm_mday=8, tm_hour=16, tm_min=52, tm_sec=36, tm_wday=1, tm_yday=343, tm_isdst=0)"
      ]
     },
     "execution_count": 54,
     "metadata": {},
     "output_type": "execute_result"
    }
   ],
   "source": [
    "t"
   ]
  },
  {
   "cell_type": "code",
   "execution_count": 55,
   "metadata": {},
   "outputs": [
    {
     "ename": "AttributeError",
     "evalue": "readonly attribute",
     "output_type": "error",
     "traceback": [
      "\u001b[1;31m---------------------------------------------------------------------------\u001b[0m",
      "\u001b[1;31mAttributeError\u001b[0m                            Traceback (most recent call last)",
      "\u001b[1;32m<ipython-input-55-35acef0b85cb>\u001b[0m in \u001b[0;36m<module>\u001b[1;34m()\u001b[0m\n\u001b[1;32m----> 1\u001b[1;33m \u001b[0mt\u001b[0m\u001b[1;33m.\u001b[0m\u001b[0mtm_year\u001b[0m\u001b[1;33m=\u001b[0m\u001b[1;36m2019\u001b[0m\u001b[1;33m\u001b[0m\u001b[0m\n\u001b[0m",
      "\u001b[1;31mAttributeError\u001b[0m: readonly attribute"
     ]
    }
   ],
   "source": [
    "t.tm_year=2019 #元组，修改不了"
   ]
  },
  {
   "cell_type": "code",
   "execution_count": 2,
   "metadata": {},
   "outputs": [],
   "source": [
    "?time"
   ]
  },
  {
   "cell_type": "code",
   "execution_count": null,
   "metadata": {},
   "outputs": [],
   "source": [
    "#其他常用的：\n",
    "time.sleep(secs) #线程推迟指定的时间运行。单位为秒。\n",
    "time.asctime([t]) #把一个表示时间的元组或者struct_time表示为这种形式：'Sun Jun 20 23:21:05 1993'。如果没有参数，将会将time.localtime()作为参数传入。\n",
    "time.ctime([secs]) #把一个时间戳（按秒计算的浮点数）转化为time.asctime()的形式。如果参数未给或者为None的时候，将会默认time.time()为参数。它的作用相当于time.asctime(time.localtime(secs))。\n"
   ]
  },
  {
   "cell_type": "code",
   "execution_count": null,
   "metadata": {},
   "outputs": [],
   "source": []
  },
  {
   "cell_type": "markdown",
   "metadata": {},
   "source": [
    "### datetime"
   ]
  },
  {
   "cell_type": "code",
   "execution_count": 8,
   "metadata": {},
   "outputs": [],
   "source": [
    "from datetime import datetime #注意封装层"
   ]
  },
  {
   "cell_type": "code",
   "execution_count": 56,
   "metadata": {},
   "outputs": [
    {
     "data": {
      "text/plain": [
       "datetime.datetime(2020, 12, 8, 16, 59, 42, 797401)"
      ]
     },
     "execution_count": 56,
     "metadata": {},
     "output_type": "execute_result"
    }
   ],
   "source": [
    "dt=datetime.fromtimestamp(time.time()) #直接import datetime就是datetime.datetime.fromtimestamp(time.time())\n",
    "dt"
   ]
  },
  {
   "cell_type": "code",
   "execution_count": null,
   "metadata": {},
   "outputs": [],
   "source": [
    "datetime对象是local的，对应时区，而不是UTC的，如果你在fromtimestamp方法中传入一个表示时区的参数，即tzinfo对象（时区信息对象），就会按传入的时区信息进行转换。"
   ]
  },
  {
   "cell_type": "code",
   "execution_count": 151,
   "metadata": {},
   "outputs": [
    {
     "data": {
      "text/plain": [
       "datetime.datetime(2020, 12, 7, 14, 20, 20, tzinfo=<datetime.tzinfo object at 0x000001C33393A1C0>)"
      ]
     },
     "execution_count": 151,
     "metadata": {},
     "output_type": "execute_result"
    }
   ],
   "source": [
    "from datetime import tzinfo\n",
    "datetime(2020,12,7,14,20,20,tzinfo=tzinfo('Asia/Shanghai')) #直接创建datetime对象"
   ]
  },
  {
   "cell_type": "code",
   "execution_count": 10,
   "metadata": {},
   "outputs": [
    {
     "name": "stdout",
     "output_type": "stream",
     "text": [
      "2020-12-07 14:17:51.501188 2020-12-07 14:17:51.501189\n"
     ]
    }
   ],
   "source": [
    "#获取当前时间可以用now() 和today()\n",
    "print(datetime.now(),datetime.today())"
   ]
  },
  {
   "cell_type": "code",
   "execution_count": 12,
   "metadata": {},
   "outputs": [
    {
     "data": {
      "text/plain": [
       "(datetime.datetime(2020, 12, 7, 6, 18, 40, 892589),\n",
       " datetime.datetime(2020, 12, 7, 6, 18, 40, 892588))"
      ]
     },
     "execution_count": 12,
     "metadata": {},
     "output_type": "execute_result"
    }
   ],
   "source": [
    "#获得utc的datetime对象\n",
    "datetime.utcfromtimestamp(time.time()),datetime.utcnow()"
   ]
  },
  {
   "cell_type": "code",
   "execution_count": 13,
   "metadata": {},
   "outputs": [
    {
     "ename": "AttributeError",
     "evalue": "type object 'datetime.datetime' has no attribute 'striptime'",
     "output_type": "error",
     "traceback": [
      "\u001b[1;31m---------------------------------------------------------------------------\u001b[0m",
      "\u001b[1;31mAttributeError\u001b[0m                            Traceback (most recent call last)",
      "\u001b[1;32m<ipython-input-13-11805138a02b>\u001b[0m in \u001b[0;36m<module>\u001b[1;34m()\u001b[0m\n\u001b[1;32m----> 1\u001b[1;33m \u001b[0mdatetime\u001b[0m\u001b[1;33m.\u001b[0m\u001b[0mstriptime\u001b[0m\u001b[1;33m(\u001b[0m\u001b[1;34m'2020-12-7 13:52:15'\u001b[0m\u001b[1;33m,\u001b[0m\u001b[1;34m\"%Y-%m-%d %H:%M:%S\"\u001b[0m\u001b[1;33m)\u001b[0m\u001b[1;33m\u001b[0m\u001b[0m\n\u001b[0m\u001b[0;32m      2\u001b[0m \u001b[1;31m#其内部还是先调用的time模块中的striptime方法，获取struct_time对象，再利用struct_time对象中的年月日时分秒信息构建datetime对象。\u001b[0m\u001b[1;33m\u001b[0m\u001b[1;33m\u001b[0m\u001b[0m\n",
      "\u001b[1;31mAttributeError\u001b[0m: type object 'datetime.datetime' has no attribute 'striptime'"
     ]
    }
   ],
   "source": [
    "datetime.striptime('2020-12-7 13:52:15',\"%Y-%m-%d %H:%M:%S\")\n",
    "#其内部还是先调用的time模块中的striptime方法，获取struct_time对象，再利用struct_time对象中的年月日时分秒信息构建datetime对象。\n",
    "#这是更上层的，不是datetime.datetime.\n",
    "#同样的，datetime类也提供了strftime()，asctime()，ctime()方法"
   ]
  },
  {
   "cell_type": "code",
   "execution_count": 15,
   "metadata": {},
   "outputs": [
    {
     "data": {
      "text/plain": [
       "datetime.datetime(2020, 12, 7, 14, 28, 26, 24161)"
      ]
     },
     "execution_count": 15,
     "metadata": {},
     "output_type": "execute_result"
    }
   ],
   "source": [
    "#combine：将一个date对象和一个time对象组合成一个datetime对象。\n",
    "#datetime.combine(date, time, tzinfo=self.tzinfo)\n",
    "datetime.combine(datetime.today().date(),datetime.today().time())"
   ]
  },
  {
   "cell_type": "code",
   "execution_count": 16,
   "metadata": {},
   "outputs": [
    {
     "data": {
      "text/plain": [
       "datetime.time(14, 28, 40, 745420)"
      ]
     },
     "execution_count": 16,
     "metadata": {},
     "output_type": "execute_result"
    }
   ],
   "source": [
    "datetime.today().time()"
   ]
  },
  {
   "cell_type": "code",
   "execution_count": null,
   "metadata": {},
   "outputs": [],
   "source": [
    "#方法\n",
    "datetime.weekday() #返回星期几，星期一为 0，星期天为 6\n",
    "datetime.isoweekday() #返回星期几，星期一为 1，星期天为 7\n",
    "datetime.isocalendar() #返回数组：（年、第几周、星期几）\n",
    "datetime.toordinal() #返回从公元0年到指定datetime的天数"
   ]
  },
  {
   "cell_type": "code",
   "execution_count": null,
   "metadata": {},
   "outputs": [],
   "source": [
    "#对象属性\n",
    "dt.year  #返回给定datetime对象的年份\n",
    "dt.month #\n",
    "dt.day #.hour .minute .second .microsecond .tzinfo "
   ]
  },
  {
   "cell_type": "code",
   "execution_count": 63,
   "metadata": {},
   "outputs": [
    {
     "data": {
      "text/plain": [
       "datetime.datetime(2020, 12, 28, 16, 59, 42, 797401)"
      ]
     },
     "execution_count": 63,
     "metadata": {},
     "output_type": "execute_result"
    }
   ],
   "source": [
    "from datetime import timedelta\n",
    "dt+timedelta(20) #只有days，其他的时间间隔如年等都转为days"
   ]
  },
  {
   "cell_type": "code",
   "execution_count": 146,
   "metadata": {},
   "outputs": [
    {
     "ename": "TypeError",
     "evalue": "'NoneType' object is not callable",
     "output_type": "error",
     "traceback": [
      "\u001b[1;31m---------------------------------------------------------------------------\u001b[0m",
      "\u001b[1;31mTypeError\u001b[0m                                 Traceback (most recent call last)",
      "\u001b[1;32m<ipython-input-146-51a67abcb769>\u001b[0m in \u001b[0;36m<module>\u001b[1;34m()\u001b[0m\n\u001b[1;32m----> 1\u001b[1;33m \u001b[0mdt\u001b[0m\u001b[1;33m.\u001b[0m\u001b[0mtzinfo\u001b[0m\u001b[1;33m(\u001b[0m\u001b[1;33m)\u001b[0m\u001b[1;33m\u001b[0m\u001b[0m\n\u001b[0m",
      "\u001b[1;31mTypeError\u001b[0m: 'NoneType' object is not callable"
     ]
    }
   ],
   "source": [
    "dt.tzinfo"
   ]
  },
  {
   "cell_type": "code",
   "execution_count": 154,
   "metadata": {},
   "outputs": [
    {
     "data": {
      "text/plain": [
       "datetime.datetime(2019, 11, 21, 0, 0, tzinfo=datetime.timezone(datetime.timedelta(seconds=28800)))"
      ]
     },
     "execution_count": 154,
     "metadata": {},
     "output_type": "execute_result"
    }
   ],
   "source": [
    "from datetime import timezone\n",
    "datetime(2019, 11, 21,tzinfo=timezone(timedelta(hours=8)))"
   ]
  },
  {
   "cell_type": "code",
   "execution_count": 149,
   "metadata": {},
   "outputs": [],
   "source": [
    "?datetime"
   ]
  },
  {
   "cell_type": "code",
   "execution_count": null,
   "metadata": {},
   "outputs": [],
   "source": [
    "#timedelta 时间间隔,直接归属在datetime下，from datetime import timedelta"
   ]
  },
  {
   "cell_type": "code",
   "execution_count": null,
   "metadata": {},
   "outputs": [],
   "source": [
    "#两个timedelta对象之间可加，可减，但不能做大小比较\n",
    "#一个timedelta对象还可以与整数相乘，或通过 // 操作与一个整数相除。\n",
    "#还可以取反，或者用abs函数获得绝对值。"
   ]
  },
  {
   "cell_type": "markdown",
   "metadata": {},
   "source": [
    "### calendar\n",
    "\n",
    "output calendars like the Unix cal program, and provides additional useful functions related to the calendar.\n",
    "[doc](https://docs.python.org/3/library/calendar.html)\n",
    "\n",
    "日历库"
   ]
  },
  {
   "cell_type": "code",
   "execution_count": 7,
   "metadata": {},
   "outputs": [],
   "source": [
    "import calendar"
   ]
  },
  {
   "cell_type": "code",
   "execution_count": null,
   "metadata": {},
   "outputs": [],
   "source": [
    "calendar.calendar(2020) #打印2020年日历 calendar.prcal(2020) 有什么区别?可以不用写print\n",
    "#print(calendar.calendar(2020)) == calendar.prcal(2020)"
   ]
  },
  {
   "cell_type": "code",
   "execution_count": 65,
   "metadata": {},
   "outputs": [
    {
     "name": "stdout",
     "output_type": "stream",
     "text": [
      "   December 2020\n",
      "Mo Tu We Th Fr Sa Su\n",
      "    1  2  3  4  5  6\n",
      " 7  8  9 10 11 12 13\n",
      "14 15 16 17 18 19 20\n",
      "21 22 23 24 25 26 27\n",
      "28 29 30 31\n",
      "\n"
     ]
    }
   ],
   "source": [
    "print(calendar.month(2020,12)) #calendar.prmonth(2019,2)"
   ]
  },
  {
   "cell_type": "code",
   "execution_count": 8,
   "metadata": {},
   "outputs": [
    {
     "data": {
      "text/plain": [
       "243"
      ]
     },
     "execution_count": 8,
     "metadata": {},
     "output_type": "execute_result"
    }
   ],
   "source": [
    "calendar.leapdays(2000,3000) #y1与y2年份之间的闰年数量"
   ]
  },
  {
   "cell_type": "code",
   "execution_count": 68,
   "metadata": {},
   "outputs": [
    {
     "data": {
      "text/plain": [
       "True"
      ]
     },
     "execution_count": 68,
     "metadata": {},
     "output_type": "execute_result"
    }
   ],
   "source": [
    "calendar.isleap(2020) #是否闰年"
   ]
  },
  {
   "cell_type": "code",
   "execution_count": 69,
   "metadata": {},
   "outputs": [
    {
     "data": {
      "text/plain": [
       "4"
      ]
     },
     "execution_count": 69,
     "metadata": {},
     "output_type": "execute_result"
    }
   ],
   "source": [
    "calendar.weekday(2020,11,20) #指定日期为星期几，4代表周五"
   ]
  },
  {
   "cell_type": "code",
   "execution_count": null,
   "metadata": {},
   "outputs": [],
   "source": []
  },
  {
   "cell_type": "markdown",
   "metadata": {},
   "source": [
    "### pytz\n",
    "\n",
    "datetime.tzinfo timezone definitions generated from the Olson timezone database. \n",
    "和datetime配合的时区映射库"
   ]
  },
  {
   "cell_type": "code",
   "execution_count": 20,
   "metadata": {},
   "outputs": [],
   "source": [
    "import pytz\n",
    "sh = pytz.timezone('Asia/Shanghai')"
   ]
  },
  {
   "cell_type": "code",
   "execution_count": null,
   "metadata": {},
   "outputs": [],
   "source": [
    "d = datetime(2018, 11, 1, hour=8, tzinfo=sh)"
   ]
  },
  {
   "cell_type": "code",
   "execution_count": null,
   "metadata": {},
   "outputs": [],
   "source": []
  },
  {
   "cell_type": "markdown",
   "metadata": {},
   "source": [
    "### pandas"
   ]
  },
  {
   "cell_type": "code",
   "execution_count": null,
   "metadata": {},
   "outputs": [],
   "source": [
    "#创建时间对象，可以用Timestamp() 或pd.to_datetime()，to_datetime支持欧洲风格"
   ]
  },
  {
   "cell_type": "code",
   "execution_count": 22,
   "metadata": {},
   "outputs": [],
   "source": [
    "import pandas as pd"
   ]
  },
  {
   "cell_type": "code",
   "execution_count": 25,
   "metadata": {},
   "outputs": [
    {
     "data": {
      "text/plain": [
       "(Timestamp('2020-12-07 00:00:00'),\n",
       " Timestamp('2020-12-07 00:00:00'),\n",
       " Timestamp('2020-11-12 00:00:00'),\n",
       " Timestamp('2020-12-11 00:00:00'))"
      ]
     },
     "execution_count": 25,
     "metadata": {},
     "output_type": "execute_result"
    }
   ],
   "source": [
    "pd.Timestamp('2020-12-07'),pd.to_datetime('2020-12-07'),pd.to_datetime('11-12-2020'),pd.to_datetime('11-12-2020',dayfirst=True)"
   ]
  },
  {
   "cell_type": "code",
   "execution_count": 35,
   "metadata": {},
   "outputs": [
    {
     "data": {
      "text/plain": [
       "DatetimeIndex(['2020-12-03', '2020-12-04', '2020-12-05', '2020-12-06',\n",
       "               '2020-12-07'],\n",
       "              dtype='datetime64[ns]', freq=None)"
      ]
     },
     "execution_count": 35,
     "metadata": {},
     "output_type": "execute_result"
    }
   ],
   "source": [
    "pd.to_datetime('2020-12-03') + pd.to_timedelta(range(5), 'D')\n",
    "#D 表示 day"
   ]
  },
  {
   "cell_type": "code",
   "execution_count": 37,
   "metadata": {},
   "outputs": [
    {
     "data": {
      "text/plain": [
       "DatetimeIndex(['2020-12-03', '2020-12-04', '2020-12-05', '2020-12-06',\n",
       "               '2020-12-07'],\n",
       "              dtype='datetime64[ns]', freq='D')"
      ]
     },
     "execution_count": 37,
     "metadata": {},
     "output_type": "execute_result"
    }
   ],
   "source": [
    "pd.date_range(start='2020-12-3', periods=5, freq='D')"
   ]
  },
  {
   "cell_type": "markdown",
   "metadata": {},
   "source": [
    "freq可以是 6D M 等周期"
   ]
  },
  {
   "cell_type": "code",
   "execution_count": 38,
   "metadata": {},
   "outputs": [
    {
     "data": {
      "text/plain": [
       "PeriodIndex(['2018-01', '2018-02', '2018-03', '2018-04', '2018-05'], dtype='period[M]', freq='M')"
      ]
     },
     "execution_count": 38,
     "metadata": {},
     "output_type": "execute_result"
    }
   ],
   "source": [
    "pd.period_range('2018', periods=5, freq='M')"
   ]
  },
  {
   "cell_type": "markdown",
   "metadata": {},
   "source": [
    "DatetimeIndex可以进行日期的偏移"
   ]
  },
  {
   "cell_type": "code",
   "execution_count": 40,
   "metadata": {},
   "outputs": [
    {
     "data": {
      "text/plain": [
       "DatetimeIndex(['2020-12-10', '2020-12-11', '2020-12-12', '2020-12-13',\n",
       "               '2020-12-14'],\n",
       "              dtype='datetime64[ns]', freq=None)"
      ]
     },
     "execution_count": 40,
     "metadata": {},
     "output_type": "execute_result"
    }
   ],
   "source": [
    "dr=pd.date_range(start='2020-12-3', periods=5, freq='D')\n",
    "dr+pd.offsets.Week() #偏移一周"
   ]
  },
  {
   "cell_type": "code",
   "execution_count": 41,
   "metadata": {},
   "outputs": [
    {
     "data": {
      "text/plain": [
       "DatetimeIndex(['2020-12-10', '2020-12-11', '2020-12-12', '2020-12-13',\n",
       "               '2020-12-14'],\n",
       "              dtype='datetime64[ns]', freq='D')"
      ]
     },
     "execution_count": 41,
     "metadata": {},
     "output_type": "execute_result"
    }
   ],
   "source": [
    "dr.shift(7, freq='D') #第二种偏移方式"
   ]
  },
  {
   "cell_type": "code",
   "execution_count": 88,
   "metadata": {},
   "outputs": [
    {
     "data": {
      "text/plain": [
       "Timestamp('2020-12-08 17:25:56.313356')"
      ]
     },
     "execution_count": 88,
     "metadata": {},
     "output_type": "execute_result"
    }
   ],
   "source": [
    "pd.Timestamp.now()"
   ]
  },
  {
   "cell_type": "code",
   "execution_count": null,
   "metadata": {},
   "outputs": [],
   "source": [
    "#重采样 .resample('3D').mean()  .asfreq('3D')"
   ]
  },
  {
   "cell_type": "code",
   "execution_count": null,
   "metadata": {},
   "outputs": [],
   "source": [
    "date_range"
   ]
  },
  {
   "cell_type": "code",
   "execution_count": null,
   "metadata": {},
   "outputs": [],
   "source": [
    "PeriodIndex   period_range"
   ]
  },
  {
   "cell_type": "code",
   "execution_count": null,
   "metadata": {},
   "outputs": [],
   "source": [
    "TimedeltaIndex  timedelta_range"
   ]
  },
  {
   "cell_type": "code",
   "execution_count": 100,
   "metadata": {},
   "outputs": [
    {
     "data": {
      "text/plain": [
       "Timestamp('2020-12-08 17:31:34.060694')"
      ]
     },
     "execution_count": 100,
     "metadata": {},
     "output_type": "execute_result"
    }
   ],
   "source": [
    "a=pd.Timestamp.now()\n",
    "a"
   ]
  },
  {
   "cell_type": "code",
   "execution_count": 101,
   "metadata": {},
   "outputs": [
    {
     "data": {
      "text/plain": [
       "1607448694.060694"
      ]
     },
     "execution_count": 101,
     "metadata": {},
     "output_type": "execute_result"
    }
   ],
   "source": [
    "a.timestamp()"
   ]
  },
  {
   "cell_type": "code",
   "execution_count": 102,
   "metadata": {},
   "outputs": [
    {
     "data": {
      "text/plain": [
       "Timestamp('2020-12-09 01:31:34.060694')"
      ]
     },
     "execution_count": 102,
     "metadata": {},
     "output_type": "execute_result"
    }
   ],
   "source": [
    "a.fromtimestamp(a.timestamp())"
   ]
  },
  {
   "cell_type": "code",
   "execution_count": null,
   "metadata": {},
   "outputs": [],
   "source": [
    "pd.Timestamp.fromtimestamp(ts)"
   ]
  },
  {
   "cell_type": "code",
   "execution_count": 103,
   "metadata": {},
   "outputs": [
    {
     "data": {
      "text/plain": [
       "2020"
      ]
     },
     "execution_count": 103,
     "metadata": {},
     "output_type": "execute_result"
    }
   ],
   "source": [
    "a.year"
   ]
  },
  {
   "cell_type": "code",
   "execution_count": 104,
   "metadata": {},
   "outputs": [
    {
     "data": {
      "text/plain": [
       "'2020-12-08'"
      ]
     },
     "execution_count": 104,
     "metadata": {},
     "output_type": "execute_result"
    }
   ],
   "source": [
    "a.strftime('%Y-%m-%d')"
   ]
  },
  {
   "cell_type": "markdown",
   "metadata": {},
   "source": [
    "### timeit\n",
    "Measure execution time of small code snippets\n",
    "\n",
    "small code用得很传神；\n"
   ]
  },
  {
   "cell_type": "code",
   "execution_count": null,
   "metadata": {},
   "outputs": [],
   "source": [
    "from timeit import timeit\n",
    "timeit('x=1')  #看执行1000000次x=1的时间\n",
    "timeit('x=1', number=1) #执行x=1 一次的耗时"
   ]
  },
  {
   "cell_type": "code",
   "execution_count": null,
   "metadata": {},
   "outputs": [],
   "source": [
    "def func():\n",
    "    s=[i for i in range(1000)]\n",
    "    return s\n",
    "timeit('func()', number=1) #执行函数func 一次的时间"
   ]
  },
  {
   "cell_type": "code",
   "execution_count": null,
   "metadata": {},
   "outputs": [],
   "source": [
    "timeit.timeit(lambda: \"-\".join(map(str, range(100))), number=10000) #用lambda传参"
   ]
  },
  {
   "cell_type": "code",
   "execution_count": null,
   "metadata": {},
   "outputs": [],
   "source": [
    "from timeit import repeat\n",
    "#repeat和timeit用法相似，多了一个repeat参数，表示重复测试的次数(可以不写，默认值为3.)，返回值为一个时间的列表。\n",
    "t = repeat('func()', 'from __main__ import func', number=100, repeat=5)"
   ]
  },
  {
   "cell_type": "code",
   "execution_count": null,
   "metadata": {},
   "outputs": [],
   "source": [
    "#在命令行中使用：\n",
    "python -m timeit '\"-\".join(str(n) for n in range(100))'"
   ]
  },
  {
   "cell_type": "code",
   "execution_count": null,
   "metadata": {},
   "outputs": [],
   "source": [
    "timeit.timeit(stmt='pass', setup='pass', timer=<default timer>, number=1000000)\n",
    "timeit.repeat(stmt='pass', setup='pass', timer=<default timer>, repeat=3, number=1000000)\n",
    "timeit.default_timer() #默认的计时器"
   ]
  },
  {
   "cell_type": "code",
   "execution_count": null,
   "metadata": {},
   "outputs": [],
   "source": []
  },
  {
   "cell_type": "code",
   "execution_count": null,
   "metadata": {},
   "outputs": [],
   "source": []
  },
  {
   "cell_type": "markdown",
   "metadata": {},
   "source": [
    "### dateutil\n",
    "\n",
    "[powerful extensions to datetime](https://dateutil.readthedocs.io/en/stable/)\n",
    "是写`pip install python-dateutil`这个喔；\n",
    "\n",
    "特性：\n",
    "- 计算相对时间间隔relative deltas\n",
    "- 从各种字符串形式中解析出日期（Generic parsing of dates in almost any string format）\n",
    "\n",
    "\n",
    "库里有parser、easter、relativedelta、rrule"
   ]
  },
  {
   "cell_type": "code",
   "execution_count": 42,
   "metadata": {},
   "outputs": [],
   "source": [
    "import dateutil #anaconda下已经安装，parser用于更方便地从字符串解析为datetime对象"
   ]
  },
  {
   "cell_type": "code",
   "execution_count": 32,
   "metadata": {},
   "outputs": [
    {
     "data": {
      "text/plain": [
       "datetime.datetime(2020, 4, 29, 14, 20)"
      ]
     },
     "execution_count": 32,
     "metadata": {},
     "output_type": "execute_result"
    }
   ],
   "source": [
    "dateutil.parser.parse('April 29 2020 14:20')"
   ]
  },
  {
   "cell_type": "code",
   "execution_count": 47,
   "metadata": {},
   "outputs": [
    {
     "data": {
      "text/plain": [
       "(datetime.datetime(2047, 1, 1, 8, 21), ('Today is ', ' ', ' ', 'at '))"
      ]
     },
     "execution_count": 47,
     "metadata": {},
     "output_type": "execute_result"
    }
   ],
   "source": [
    "dateutil.parser.parse(\"Today is January 1, 2047 at 8:21:00AM\", fuzzy_with_tokens=True)\n",
    "#不写fuzzy_with_tokens是解析不出来的"
   ]
  },
  {
   "cell_type": "code",
   "execution_count": 72,
   "metadata": {},
   "outputs": [
    {
     "data": {
      "text/plain": [
       "datetime.datetime(2020, 4, 29, 0, 0)"
      ]
     },
     "execution_count": 72,
     "metadata": {},
     "output_type": "execute_result"
    }
   ],
   "source": [
    "dateutil.parser.parse('April 29') #会去当前年"
   ]
  },
  {
   "cell_type": "code",
   "execution_count": 80,
   "metadata": {},
   "outputs": [],
   "source": [
    "#dateutil.parser.parse(dt.timestamp()) #必须是字符串，不可以是时间戳"
   ]
  },
  {
   "cell_type": "code",
   "execution_count": 81,
   "metadata": {},
   "outputs": [
    {
     "data": {
      "text/plain": [
       "datetime.datetime(2020, 4, 29, 0, 0)"
      ]
     },
     "execution_count": 81,
     "metadata": {},
     "output_type": "execute_result"
    }
   ],
   "source": [
    "dt.fromtimestamp(dt.timestamp()) #因为dt是datetime对象，可以这么调用？"
   ]
  },
  {
   "cell_type": "code",
   "execution_count": 76,
   "metadata": {},
   "outputs": [
    {
     "data": {
      "text/plain": [
       "datetime.datetime(2020, 12, 8, 17, 16, 29, 851850)"
      ]
     },
     "execution_count": 76,
     "metadata": {},
     "output_type": "execute_result"
    }
   ],
   "source": [
    "dt.now()"
   ]
  },
  {
   "cell_type": "code",
   "execution_count": 84,
   "metadata": {},
   "outputs": [
    {
     "data": {
      "text/plain": [
       "'2020-04-29'"
      ]
     },
     "execution_count": 84,
     "metadata": {},
     "output_type": "execute_result"
    }
   ],
   "source": [
    "datetime.strftime(dt,'%Y-%m-%d') #注意和time.strftime的参数顺序区别，这是dt在前"
   ]
  },
  {
   "cell_type": "code",
   "execution_count": 86,
   "metadata": {},
   "outputs": [
    {
     "data": {
      "text/plain": [
       "'2020-12-08'"
      ]
     },
     "execution_count": 86,
     "metadata": {},
     "output_type": "execute_result"
    }
   ],
   "source": [
    "time.strftime('%Y-%m-%d',time.localtime())"
   ]
  },
  {
   "cell_type": "code",
   "execution_count": 87,
   "metadata": {},
   "outputs": [
    {
     "data": {
      "text/plain": [
       "'2020-04-29'"
      ]
     },
     "execution_count": 87,
     "metadata": {},
     "output_type": "execute_result"
    }
   ],
   "source": [
    "dt.strftime('%Y-%m-%d') #只能输入一个参数"
   ]
  },
  {
   "cell_type": "code",
   "execution_count": 69,
   "metadata": {},
   "outputs": [
    {
     "ename": "AttributeError",
     "evalue": "module 'dateutil' has no attribute 'utils'",
     "output_type": "error",
     "traceback": [
      "\u001b[1;31m---------------------------------------------------------------------------\u001b[0m",
      "\u001b[1;31mAttributeError\u001b[0m                            Traceback (most recent call last)",
      "\u001b[1;32m<ipython-input-69-64f0d7012e56>\u001b[0m in \u001b[0;36m<module>\u001b[1;34m()\u001b[0m\n\u001b[1;32m----> 1\u001b[1;33m \u001b[0mdateutil\u001b[0m\u001b[1;33m.\u001b[0m\u001b[0mutils\u001b[0m\u001b[1;33m.\u001b[0m\u001b[0mtoday\u001b[0m\u001b[1;33m(\u001b[0m\u001b[1;33m)\u001b[0m\u001b[1;33m\u001b[0m\u001b[0m\n\u001b[0m",
      "\u001b[1;31mAttributeError\u001b[0m: module 'dateutil' has no attribute 'utils'"
     ]
    }
   ],
   "source": [
    "dateutil.utils.today()"
   ]
  },
  {
   "cell_type": "markdown",
   "metadata": {},
   "source": [
    "relativedelta：计算两个日期时间之间的时差或从日期时间添加/删除，rrule用于创建重复日期时间，tz用于处理时区以及其他工具。"
   ]
  },
  {
   "cell_type": "code",
   "execution_count": 59,
   "metadata": {},
   "outputs": [
    {
     "data": {
      "text/plain": [
       "datetime.datetime(2021, 1, 14, 14, 15, 39, 173204)"
      ]
     },
     "execution_count": 59,
     "metadata": {},
     "output_type": "execute_result"
    }
   ],
   "source": [
    "dt+dateutil.relativedelta.relativedelta(months=1, weeks=1)"
   ]
  },
  {
   "cell_type": "code",
   "execution_count": 58,
   "metadata": {},
   "outputs": [
    {
     "data": {
      "text/plain": [
       "datetime.datetime(2021, 1, 14, 14, 15, 39, 173204)"
      ]
     },
     "execution_count": 58,
     "metadata": {},
     "output_type": "execute_result"
    }
   ],
   "source": [
    "dt+dateutil.relativedelta.relativedelta(months=+1, weeks=-1)"
   ]
  },
  {
   "cell_type": "code",
   "execution_count": null,
   "metadata": {},
   "outputs": [],
   "source": [
    "relativedelta(datetime(2003, 10, 24, 10, 0),dt) #得到一个时间间隔\n",
    "relativedelta(NOW, johnbirthday) #得到一个人的年龄"
   ]
  },
  {
   "cell_type": "code",
   "execution_count": 155,
   "metadata": {},
   "outputs": [
    {
     "ename": "TypeError",
     "evalue": "argument of type 'tzfile' is not iterable",
     "output_type": "error",
     "traceback": [
      "\u001b[1;31m---------------------------------------------------------------------------\u001b[0m",
      "\u001b[1;31mTypeError\u001b[0m                                 Traceback (most recent call last)",
      "\u001b[1;32m<ipython-input-155-c7d9ea1e1016>\u001b[0m in \u001b[0;36m<module>\u001b[1;34m()\u001b[0m\n\u001b[0;32m      1\u001b[0m \u001b[1;33m\u001b[0m\u001b[0m\n\u001b[1;32m----> 2\u001b[1;33m \u001b[0mdateutil\u001b[0m\u001b[1;33m.\u001b[0m\u001b[0mparser\u001b[0m\u001b[1;33m.\u001b[0m\u001b[0mparse\u001b[0m\u001b[1;33m(\u001b[0m\u001b[1;34m\"2012-01-19 17:21:00\"\u001b[0m\u001b[1;33m,\u001b[0m \u001b[0mtzinfos\u001b[0m\u001b[1;33m=\u001b[0m\u001b[0mdateutil\u001b[0m\u001b[1;33m.\u001b[0m\u001b[0mtz\u001b[0m\u001b[1;33m.\u001b[0m\u001b[0mgettz\u001b[0m\u001b[1;33m(\u001b[0m\u001b[1;34m\"America/Chicago\"\u001b[0m\u001b[1;33m)\u001b[0m\u001b[1;33m)\u001b[0m\u001b[1;33m\u001b[0m\u001b[0m\n\u001b[0m",
      "\u001b[1;32mC:\\ProgramData\\Anaconda3\\lib\\site-packages\\dateutil\\parser\\_parser.py\u001b[0m in \u001b[0;36mparse\u001b[1;34m(timestr, parserinfo, **kwargs)\u001b[0m\n\u001b[0;32m   1354\u001b[0m         \u001b[1;32mreturn\u001b[0m \u001b[0mparser\u001b[0m\u001b[1;33m(\u001b[0m\u001b[0mparserinfo\u001b[0m\u001b[1;33m)\u001b[0m\u001b[1;33m.\u001b[0m\u001b[0mparse\u001b[0m\u001b[1;33m(\u001b[0m\u001b[0mtimestr\u001b[0m\u001b[1;33m,\u001b[0m \u001b[1;33m**\u001b[0m\u001b[0mkwargs\u001b[0m\u001b[1;33m)\u001b[0m\u001b[1;33m\u001b[0m\u001b[0m\n\u001b[0;32m   1355\u001b[0m     \u001b[1;32melse\u001b[0m\u001b[1;33m:\u001b[0m\u001b[1;33m\u001b[0m\u001b[0m\n\u001b[1;32m-> 1356\u001b[1;33m         \u001b[1;32mreturn\u001b[0m \u001b[0mDEFAULTPARSER\u001b[0m\u001b[1;33m.\u001b[0m\u001b[0mparse\u001b[0m\u001b[1;33m(\u001b[0m\u001b[0mtimestr\u001b[0m\u001b[1;33m,\u001b[0m \u001b[1;33m**\u001b[0m\u001b[0mkwargs\u001b[0m\u001b[1;33m)\u001b[0m\u001b[1;33m\u001b[0m\u001b[0m\n\u001b[0m\u001b[0;32m   1357\u001b[0m \u001b[1;33m\u001b[0m\u001b[0m\n\u001b[0;32m   1358\u001b[0m \u001b[1;33m\u001b[0m\u001b[0m\n",
      "\u001b[1;32mC:\\ProgramData\\Anaconda3\\lib\\site-packages\\dateutil\\parser\\_parser.py\u001b[0m in \u001b[0;36mparse\u001b[1;34m(self, timestr, default, ignoretz, tzinfos, **kwargs)\u001b[0m\n\u001b[0;32m    654\u001b[0m \u001b[1;33m\u001b[0m\u001b[0m\n\u001b[0;32m    655\u001b[0m         \u001b[1;32mif\u001b[0m \u001b[1;32mnot\u001b[0m \u001b[0mignoretz\u001b[0m\u001b[1;33m:\u001b[0m\u001b[1;33m\u001b[0m\u001b[0m\n\u001b[1;32m--> 656\u001b[1;33m             \u001b[0mret\u001b[0m \u001b[1;33m=\u001b[0m \u001b[0mself\u001b[0m\u001b[1;33m.\u001b[0m\u001b[0m_build_tzaware\u001b[0m\u001b[1;33m(\u001b[0m\u001b[0mret\u001b[0m\u001b[1;33m,\u001b[0m \u001b[0mres\u001b[0m\u001b[1;33m,\u001b[0m \u001b[0mtzinfos\u001b[0m\u001b[1;33m)\u001b[0m\u001b[1;33m\u001b[0m\u001b[0m\n\u001b[0m\u001b[0;32m    657\u001b[0m \u001b[1;33m\u001b[0m\u001b[0m\n\u001b[0;32m    658\u001b[0m         \u001b[1;32mif\u001b[0m \u001b[0mkwargs\u001b[0m\u001b[1;33m.\u001b[0m\u001b[0mget\u001b[0m\u001b[1;33m(\u001b[0m\u001b[1;34m'fuzzy_with_tokens'\u001b[0m\u001b[1;33m,\u001b[0m \u001b[1;32mFalse\u001b[0m\u001b[1;33m)\u001b[0m\u001b[1;33m:\u001b[0m\u001b[1;33m\u001b[0m\u001b[0m\n",
      "\u001b[1;32mC:\\ProgramData\\Anaconda3\\lib\\site-packages\\dateutil\\parser\\_parser.py\u001b[0m in \u001b[0;36m_build_tzaware\u001b[1;34m(self, naive, res, tzinfos)\u001b[0m\n\u001b[0;32m   1168\u001b[0m \u001b[1;33m\u001b[0m\u001b[0m\n\u001b[0;32m   1169\u001b[0m     \u001b[1;32mdef\u001b[0m \u001b[0m_build_tzaware\u001b[0m\u001b[1;33m(\u001b[0m\u001b[0mself\u001b[0m\u001b[1;33m,\u001b[0m \u001b[0mnaive\u001b[0m\u001b[1;33m,\u001b[0m \u001b[0mres\u001b[0m\u001b[1;33m,\u001b[0m \u001b[0mtzinfos\u001b[0m\u001b[1;33m)\u001b[0m\u001b[1;33m:\u001b[0m\u001b[1;33m\u001b[0m\u001b[0m\n\u001b[1;32m-> 1170\u001b[1;33m         \u001b[1;32mif\u001b[0m \u001b[1;33m(\u001b[0m\u001b[0mcallable\u001b[0m\u001b[1;33m(\u001b[0m\u001b[0mtzinfos\u001b[0m\u001b[1;33m)\u001b[0m \u001b[1;32mor\u001b[0m \u001b[1;33m(\u001b[0m\u001b[0mtzinfos\u001b[0m \u001b[1;32mand\u001b[0m \u001b[0mres\u001b[0m\u001b[1;33m.\u001b[0m\u001b[0mtzname\u001b[0m \u001b[1;32min\u001b[0m \u001b[0mtzinfos\u001b[0m\u001b[1;33m)\u001b[0m\u001b[1;33m)\u001b[0m\u001b[1;33m:\u001b[0m\u001b[1;33m\u001b[0m\u001b[0m\n\u001b[0m\u001b[0;32m   1171\u001b[0m             \u001b[0mtzinfo\u001b[0m \u001b[1;33m=\u001b[0m \u001b[0mself\u001b[0m\u001b[1;33m.\u001b[0m\u001b[0m_build_tzinfo\u001b[0m\u001b[1;33m(\u001b[0m\u001b[0mtzinfos\u001b[0m\u001b[1;33m,\u001b[0m \u001b[0mres\u001b[0m\u001b[1;33m.\u001b[0m\u001b[0mtzname\u001b[0m\u001b[1;33m,\u001b[0m \u001b[0mres\u001b[0m\u001b[1;33m.\u001b[0m\u001b[0mtzoffset\u001b[0m\u001b[1;33m)\u001b[0m\u001b[1;33m\u001b[0m\u001b[0m\n\u001b[0;32m   1172\u001b[0m             \u001b[0maware\u001b[0m \u001b[1;33m=\u001b[0m \u001b[0mnaive\u001b[0m\u001b[1;33m.\u001b[0m\u001b[0mreplace\u001b[0m\u001b[1;33m(\u001b[0m\u001b[0mtzinfo\u001b[0m\u001b[1;33m=\u001b[0m\u001b[0mtzinfo\u001b[0m\u001b[1;33m)\u001b[0m\u001b[1;33m\u001b[0m\u001b[0m\n",
      "\u001b[1;31mTypeError\u001b[0m: argument of type 'tzfile' is not iterable"
     ]
    }
   ],
   "source": [
    "\n",
    "dateutil.parser.parse(\"2012-01-19 17:21:00\", tzinfos=dateutil.tz.gettz(\"America/Chicago\"))"
   ]
  },
  {
   "cell_type": "code",
   "execution_count": null,
   "metadata": {},
   "outputs": [],
   "source": [
    "#Next friday\n",
    "dt+relativedelta(weekday=FR)"
   ]
  },
  {
   "cell_type": "code",
   "execution_count": 46,
   "metadata": {},
   "outputs": [
    {
     "data": {
      "text/plain": [
       "datetime.date(2020, 4, 12)"
      ]
     },
     "execution_count": 46,
     "metadata": {},
     "output_type": "execute_result"
    }
   ],
   "source": [
    "dateutil.easter.easter(2020,method=3) #计算输入年份复活节的日期，method不同结果不同，\n",
    "#Western, Orthodox or Julian algorithms. 默认method是3"
   ]
  },
  {
   "cell_type": "code",
   "execution_count": null,
   "metadata": {},
   "outputs": [],
   "source": [
    "#rrule 获得一个时间序列\n"
   ]
  },
  {
   "cell_type": "code",
   "execution_count": 60,
   "metadata": {},
   "outputs": [
    {
     "data": {
      "text/plain": [
       "[datetime.datetime(2020, 12, 7, 0, 0),\n",
       " datetime.datetime(2021, 1, 7, 0, 0),\n",
       " datetime.datetime(2021, 2, 7, 0, 0),\n",
       " datetime.datetime(2021, 3, 7, 0, 0)]"
      ]
     },
     "execution_count": 60,
     "metadata": {},
     "output_type": "execute_result"
    }
   ],
   "source": [
    "list(dateutil.rrule.rrule(freq=dateutil.rrule.MONTHLY, count=4, dtstart=datetime(2020, 12,7)))\n",
    "#MONTHLY  DAILY"
   ]
  },
  {
   "cell_type": "code",
   "execution_count": null,
   "metadata": {},
   "outputs": [],
   "source": [
    "rrulestr() 是把字符串输入当参数"
   ]
  },
  {
   "cell_type": "code",
   "execution_count": 61,
   "metadata": {},
   "outputs": [
    {
     "data": {
      "text/plain": [
       "[datetime.datetime(1997, 9, 2, 9, 0),\n",
       " datetime.datetime(1997, 9, 12, 9, 0),\n",
       " datetime.datetime(1997, 9, 22, 9, 0),\n",
       " datetime.datetime(1997, 10, 2, 9, 0),\n",
       " datetime.datetime(1997, 10, 12, 9, 0)]"
      ]
     },
     "execution_count": 61,
     "metadata": {},
     "output_type": "execute_result"
    }
   ],
   "source": [
    "list(dateutil.rrule.rrulestr(\"\"\"\n",
    "    DTSTART:19970902T090000\n",
    "    RRULE:FREQ=DAILY;INTERVAL=10;COUNT=5\n",
    "    \"\"\"))"
   ]
  },
  {
   "cell_type": "markdown",
   "metadata": {},
   "source": [
    "### arrow\n",
    "[Arrow: Better dates & times for Python](https://arrow.readthedocs.io/en/stable/)\n",
    "目前是0.17版，在完善中，heavily inspired by moment.js and requests."
   ]
  },
  {
   "cell_type": "code",
   "execution_count": 105,
   "metadata": {},
   "outputs": [],
   "source": [
    "import arrow #anaconda下也已经安装了"
   ]
  },
  {
   "cell_type": "code",
   "execution_count": 37,
   "metadata": {},
   "outputs": [
    {
     "data": {
      "text/plain": [
       "<Arrow [2020-12-07T14:20:10+00:00]>"
      ]
     },
     "execution_count": 37,
     "metadata": {},
     "output_type": "execute_result"
    }
   ],
   "source": [
    "arrow.get('2020-12-07 14:20:10') #是内置的对象，不是datetime，\n",
    "#get可以指定字符串格式，就相当于strptime 可以声明字符串格式\n",
    "#arrow.get('2013-05-05 12:30:45', 'YYYY-MM-DD HH:mm:ss')\n",
    "#arrow.get('June was born in May 1980', 'MMMM YYYY')\n",
    "#可以输入数值数组 arrow.get(2013, 5, 5) arrow.Arrow(2013, 5, 5)"
   ]
  },
  {
   "cell_type": "code",
   "execution_count": 38,
   "metadata": {},
   "outputs": [
    {
     "data": {
      "text/plain": [
       "datetime.datetime(2020, 12, 7, 14, 20, 10, tzinfo=tzutc())"
      ]
     },
     "execution_count": 38,
     "metadata": {},
     "output_type": "execute_result"
    }
   ],
   "source": [
    "arrow.get('2020-12-07 14:20:10').datetime #转为dateime类型\n",
    "now.naive #转为当地时区的datetime类型\n",
    "#属性还有 .year .month .day .timestamp 等"
   ]
  },
  {
   "cell_type": "code",
   "execution_count": 76,
   "metadata": {},
   "outputs": [
    {
     "data": {
      "text/plain": [
       "<Arrow [2020-12-07T09:48:26+00:00]>"
      ]
     },
     "execution_count": 76,
     "metadata": {},
     "output_type": "execute_result"
    }
   ],
   "source": [
    "#get可以输入Unix时间戳\n",
    "arrow.get(1607334506) #也可以输入datetime对象"
   ]
  },
  {
   "cell_type": "code",
   "execution_count": 77,
   "metadata": {},
   "outputs": [
    {
     "data": {
      "text/plain": [
       "<Arrow [2020-05-05T00:00:00+00:00]>"
      ]
     },
     "execution_count": 77,
     "metadata": {},
     "output_type": "execute_result"
    }
   ],
   "source": [
    "arrow.get(datetime(2020, 5, 5), 'US/Pacific') #不输入时区默认是utc"
   ]
  },
  {
   "cell_type": "code",
   "execution_count": 39,
   "metadata": {},
   "outputs": [
    {
     "data": {
      "text/plain": [
       "'in 6 hours'"
      ]
     },
     "execution_count": 39,
     "metadata": {},
     "output_type": "execute_result"
    }
   ],
   "source": [
    "arrow.get('2020-12-07 14:20:10').humanize() #humanize()方法将日期时间解析成可读的短语"
   ]
  },
  {
   "cell_type": "code",
   "execution_count": 75,
   "metadata": {},
   "outputs": [
    {
     "data": {
      "text/plain": [
       "'4시간 후'"
      ]
     },
     "execution_count": 75,
     "metadata": {},
     "output_type": "execute_result"
    }
   ],
   "source": [
    "#humanize()还可以设置语言\n",
    "arrow.get('2020-12-07 14:20:10').humanize(locale='ko_kr')"
   ]
  },
  {
   "cell_type": "code",
   "execution_count": 82,
   "metadata": {},
   "outputs": [
    {
     "data": {
      "text/plain": [
       "'an hour and 6 minutes ago'"
      ]
     },
     "execution_count": 82,
     "metadata": {},
     "output_type": "execute_result"
    }
   ],
   "source": [
    "future = now.shift(minutes=66)\n",
    "now.humanize(future, granularity=[\"hour\", \"minute\"])"
   ]
  },
  {
   "cell_type": "code",
   "execution_count": 70,
   "metadata": {},
   "outputs": [
    {
     "data": {
      "text/plain": [
       "<Arrow [2020-12-07T17:43:26.321010+08:00]>"
      ]
     },
     "execution_count": 70,
     "metadata": {},
     "output_type": "execute_result"
    }
   ],
   "source": [
    "arrow.now()  #还有 .utcnow()  now可以传入时区 .now('US/Pacific')"
   ]
  },
  {
   "cell_type": "code",
   "execution_count": 106,
   "metadata": {},
   "outputs": [
    {
     "data": {
      "text/plain": [
       "<Arrow [2020-12-08T16:55:41.243513+08:00]>"
      ]
     },
     "execution_count": 106,
     "metadata": {},
     "output_type": "execute_result"
    }
   ],
   "source": [
    "#用shift进行时间间隔计算 时间加减\n",
    "now=arrow.now()\n",
    "now.shift(hours=-1)"
   ]
  },
  {
   "cell_type": "code",
   "execution_count": 81,
   "metadata": {},
   "outputs": [
    {
     "data": {
      "text/plain": [
       "(<Arrow [2020-12-07T04:40:42.423675+08:00]>,\n",
       " <Arrow [2020-12-07T17:44:42.423675-08:00]>)"
      ]
     },
     "execution_count": 81,
     "metadata": {},
     "output_type": "execute_result"
    }
   ],
   "source": [
    "#replace 修改时间对象的年月日 时区等\n",
    "now.replace(hour=4,minute=40),now.replace(tzinfo='US/Pacific')"
   ]
  },
  {
   "cell_type": "code",
   "execution_count": 109,
   "metadata": {},
   "outputs": [
    {
     "data": {
      "text/plain": [
       "1607421341"
      ]
     },
     "execution_count": 109,
     "metadata": {},
     "output_type": "execute_result"
    }
   ],
   "source": [
    "now.timestamp"
   ]
  },
  {
   "cell_type": "code",
   "execution_count": 72,
   "metadata": {},
   "outputs": [
    {
     "data": {
      "text/plain": [
       "<Arrow [2020-12-07T01:44:42.423675-08:00]>"
      ]
     },
     "execution_count": 72,
     "metadata": {},
     "output_type": "execute_result"
    }
   ],
   "source": [
    "#改时区 to是用来改时区的\n",
    "now.to('US/Pacific') #now.to(tz.gettz('US/Pacific'))\n",
    "#utc.to('local') #.to('utc')"
   ]
  },
  {
   "cell_type": "code",
   "execution_count": 73,
   "metadata": {},
   "outputs": [
    {
     "data": {
      "text/plain": [
       "1607334282"
      ]
     },
     "execution_count": 73,
     "metadata": {},
     "output_type": "execute_result"
    }
   ],
   "source": [
    "now.timestamp  #转为时间戳"
   ]
  },
  {
   "cell_type": "code",
   "execution_count": 74,
   "metadata": {},
   "outputs": [
    {
     "data": {
      "text/plain": [
       "'2020-12-07 17:44:42+08:00'"
      ]
     },
     "execution_count": 74,
     "metadata": {},
     "output_type": "execute_result"
    }
   ],
   "source": [
    "now.format() #转为字符串 now.format('YYYY-MM-DD HH:mm:ss ZZ')"
   ]
  },
  {
   "cell_type": "code",
   "execution_count": 85,
   "metadata": {},
   "outputs": [
    {
     "data": {
      "text/plain": [
       "[<Arrow [2013-05-05T12:30:00+00:00]>,\n",
       " <Arrow [2013-05-05T13:30:00+00:00]>,\n",
       " <Arrow [2013-05-05T14:30:00+00:00]>,\n",
       " <Arrow [2013-05-05T15:30:00+00:00]>,\n",
       " <Arrow [2013-05-05T16:30:00+00:00]>]"
      ]
     },
     "execution_count": 85,
     "metadata": {},
     "output_type": "execute_result"
    }
   ],
   "source": [
    "#生成时间序列\n",
    "_start = datetime(2013, 5, 5, 12, 30)\n",
    "_end = datetime(2013, 5, 5, 17, 15)\n",
    "alst=[t for t in arrow.Arrow.range('hour', _start, _end)]\n",
    "alst #还有个Arrow.span_range 区别是什么？"
   ]
  },
  {
   "cell_type": "markdown",
   "metadata": {},
   "source": [
    "### pendulum\n",
    "\n",
    "英文意思是钟摆；\n",
    "[Github](https://github.com/sdispater/pendulum)；[doc](https://pendulum.eustace.io/)\n",
    "文档里直接和arrow对标了；国内没多少资料，这是你的机会；\n",
    "他们的文档页面挺好看的；\n"
   ]
  },
  {
   "cell_type": "code",
   "execution_count": 110,
   "metadata": {},
   "outputs": [],
   "source": [
    "import pendulum"
   ]
  },
  {
   "cell_type": "code",
   "execution_count": 112,
   "metadata": {},
   "outputs": [
    {
     "data": {
      "text/plain": [
       "DateTime(2020, 12, 8, 18, 0, 8, 697484, tzinfo=Timezone('Asia/Shanghai'))"
      ]
     },
     "execution_count": 112,
     "metadata": {},
     "output_type": "execute_result"
    }
   ],
   "source": [
    "pendulum.now() #是一个自定义的DateTime对象  it's still datetime but better."
   ]
  },
  {
   "cell_type": "code",
   "execution_count": null,
   "metadata": {},
   "outputs": [],
   "source": [
    "pendulum.datetime(2012, 1, 1, tz='America/Toronto')"
   ]
  },
  {
   "cell_type": "code",
   "execution_count": null,
   "metadata": {},
   "outputs": [],
   "source": [
    "pendulum.local(2015, 2, 5) #还有 .today() .tomorrow() .yesterday() 等可以用"
   ]
  },
  {
   "cell_type": "code",
   "execution_count": 117,
   "metadata": {},
   "outputs": [
    {
     "data": {
      "text/plain": [
       "DateTime(1975, 5, 21, 22, 0, 0, tzinfo=Timezone('UTC'))"
      ]
     },
     "execution_count": 117,
     "metadata": {},
     "output_type": "execute_result"
    }
   ],
   "source": [
    "pendulum.from_format('1975-05-21 22', 'YYYY-MM-DD HH',tz='Europe/London')"
   ]
  },
  {
   "cell_type": "code",
   "execution_count": 118,
   "metadata": {},
   "outputs": [
    {
     "data": {
      "text/plain": [
       "DateTime(1975, 5, 21, 22, 0, 0, tzinfo=Timezone('Europe/Paris'))"
      ]
     },
     "execution_count": 118,
     "metadata": {},
     "output_type": "execute_result"
    }
   ],
   "source": [
    "pendulum.parse('1975-05-21T22:00:00', tz='Europe/Paris') #这不是和from_format重复了么"
   ]
  },
  {
   "cell_type": "code",
   "execution_count": null,
   "metadata": {},
   "outputs": [],
   "source": [
    "pendulum.from_timestamp(-1) #也可以传tz参数"
   ]
  },
  {
   "cell_type": "code",
   "execution_count": 119,
   "metadata": {},
   "outputs": [
    {
     "data": {
      "text/plain": [
       "14"
      ]
     },
     "execution_count": 119,
     "metadata": {},
     "output_type": "execute_result"
    }
   ],
   "source": [
    "#属性上有 .year .month .second .day_of_week .week_of_year .timestamp()等等\n",
    "pendulum.now().minute"
   ]
  },
  {
   "cell_type": "code",
   "execution_count": 120,
   "metadata": {},
   "outputs": [
    {
     "data": {
      "text/plain": [
       "1607343278"
      ]
     },
     "execution_count": 120,
     "metadata": {},
     "output_type": "execute_result"
    }
   ],
   "source": [
    "pendulum.now().int_timestamp #还有.float_timestamp和.timestamp()结果一致"
   ]
  },
  {
   "cell_type": "code",
   "execution_count": 121,
   "metadata": {},
   "outputs": [
    {
     "data": {
      "text/plain": [
       "23"
      ]
     },
     "execution_count": 121,
     "metadata": {},
     "output_type": "execute_result"
    }
   ],
   "source": [
    "pendulum.datetime(1997, 5, 21).age #年龄"
   ]
  },
  {
   "cell_type": "code",
   "execution_count": 123,
   "metadata": {},
   "outputs": [
    {
     "data": {
      "text/plain": [
       "-18000"
      ]
     },
     "execution_count": 123,
     "metadata": {},
     "output_type": "execute_result"
    }
   ],
   "source": [
    "pendulum.from_timestamp(1607343278).offset #Returns an int of seconds difference from UTC (+/- sign included)\n",
    "pendulum.from_timestamp(1607343278, 'America/Toronto').offset\n",
    "#.offset_hours 偏移的小时数，相当于时差了，和UTC的时差"
   ]
  },
  {
   "cell_type": "code",
   "execution_count": 124,
   "metadata": {},
   "outputs": [
    {
     "data": {
      "text/plain": [
       "DateTime(1975, 5, 21, 20, 17, 56, 403505, tzinfo=Timezone('Asia/Shanghai'))"
      ]
     },
     "execution_count": 124,
     "metadata": {},
     "output_type": "execute_result"
    }
   ],
   "source": [
    "#改时间可以用set  set可以设置时区，参数是tz\n",
    "pendulum.now().set(year=1975, month=5, day=21)"
   ]
  },
  {
   "cell_type": "code",
   "execution_count": 156,
   "metadata": {},
   "outputs": [
    {
     "data": {
      "text/plain": [
       "DateTime(2020, 12, 8, 19, 33, 19, 408133, tzinfo=Timezone('Asia/Shanghai'))"
      ]
     },
     "execution_count": 156,
     "metadata": {},
     "output_type": "execute_result"
    }
   ],
   "source": [
    "pendulum.now().set(tz='Asia/Shanghai')"
   ]
  },
  {
   "cell_type": "code",
   "execution_count": 113,
   "metadata": {},
   "outputs": [
    {
     "data": {
      "text/plain": [
       "2020"
      ]
     },
     "execution_count": 113,
     "metadata": {},
     "output_type": "execute_result"
    }
   ],
   "source": [
    "dt.year"
   ]
  },
  {
   "cell_type": "code",
   "execution_count": null,
   "metadata": {},
   "outputs": [],
   "source": [
    "#on处理年月日，at处理时间\n",
    "pendulum.now().on(1975, 5, 21).at(22, 32, 5)"
   ]
  },
  {
   "cell_type": "code",
   "execution_count": 126,
   "metadata": {},
   "outputs": [
    {
     "data": {
      "text/plain": [
       "'Monday 7th of December 2020 20:20:36 PM'"
      ]
     },
     "execution_count": 126,
     "metadata": {},
     "output_type": "execute_result"
    }
   ],
   "source": [
    "#转字符串，可以直接用format，也可以用 strftime\n",
    "pendulum.now().format('dddd Do [of] MMMM YYYY HH:mm:ss A')"
   ]
  },
  {
   "cell_type": "code",
   "execution_count": 130,
   "metadata": {},
   "outputs": [
    {
     "data": {
      "text/plain": [
       "'2020-21-07'"
      ]
     },
     "execution_count": 130,
     "metadata": {},
     "output_type": "execute_result"
    }
   ],
   "source": [
    "d1=pendulum.now() #format不用%\n",
    "d1.strftime('%Y-%M-%d')"
   ]
  },
  {
   "cell_type": "code",
   "execution_count": null,
   "metadata": {},
   "outputs": [],
   "source": []
  },
  {
   "cell_type": "markdown",
   "metadata": {},
   "source": [
    "还有很多的.to_date_string() .to_datetime_string() .to_atom_string() .to_rfc822_string() .to_iso8601_string() .to_w3c_string()封装可以用"
   ]
  },
  {
   "cell_type": "code",
   "execution_count": 131,
   "metadata": {},
   "outputs": [
    {
     "data": {
      "text/plain": [
       "(DateTime(2025, 12, 7, 20, 21, 55, 152598, tzinfo=Timezone('Asia/Shanghai')),\n",
       " DateTime(2019, 12, 7, 20, 21, 55, 152598, tzinfo=Timezone('Asia/Shanghai')))"
      ]
     },
     "execution_count": 131,
     "metadata": {},
     "output_type": "execute_result"
    }
   ],
   "source": [
    "d1.add(years=5),d1.subtract(years=1,months=2)"
   ]
  },
  {
   "cell_type": "code",
   "execution_count": null,
   "metadata": {},
   "outputs": [],
   "source": [
    "#在时间比较上除了用!=等，还有一些封装：\n",
    "d1.diff(d2).in_hours() #d1和d2相差多少个小时，数值是分正负的\n",
    "#.in_days()  .in_minutes()"
   ]
  },
  {
   "cell_type": "code",
   "execution_count": 132,
   "metadata": {},
   "outputs": [
    {
     "data": {
      "text/plain": [
       "'1 day ago'"
      ]
     },
     "execution_count": 132,
     "metadata": {},
     "output_type": "execute_result"
    }
   ],
   "source": [
    "pendulum.now().subtract(days=1).diff_for_humans() #自然语言"
   ]
  },
  {
   "cell_type": "code",
   "execution_count": 133,
   "metadata": {},
   "outputs": [
    {
     "data": {
      "text/plain": [
       "'5 minutes after'"
      ]
     },
     "execution_count": 133,
     "metadata": {},
     "output_type": "execute_result"
    }
   ],
   "source": [
    "pendulum.now().diff_for_humans(d1)"
   ]
  },
  {
   "cell_type": "code",
   "execution_count": 134,
   "metadata": {},
   "outputs": [
    {
     "data": {
      "text/plain": [
       "(DateTime(2020, 12, 1, 0, 0, 0, tzinfo=Timezone('Asia/Shanghai')),\n",
       " DateTime(2020, 12, 7, 23, 59, 59, 999999, tzinfo=Timezone('Asia/Shanghai')))"
      ]
     },
     "execution_count": 134,
     "metadata": {},
     "output_type": "execute_result"
    }
   ],
   "source": [
    "d1.start_of('month'),d1.end_of('day') # 特定时间d1开始月对应时间，当日最后的时间\n",
    "#参数可以是centuryyear month week day等"
   ]
  },
  {
   "cell_type": "code",
   "execution_count": 135,
   "metadata": {},
   "outputs": [
    {
     "data": {
      "text/plain": [
       "[DateTime(2020, 1, 1, 0, 0, 0, tzinfo=Timezone('UTC')),\n",
       " DateTime(2020, 1, 2, 0, 0, 0, tzinfo=Timezone('UTC')),\n",
       " DateTime(2020, 1, 3, 0, 0, 0, tzinfo=Timezone('UTC')),\n",
       " DateTime(2020, 1, 4, 0, 0, 0, tzinfo=Timezone('UTC')),\n",
       " DateTime(2020, 1, 5, 0, 0, 0, tzinfo=Timezone('UTC')),\n",
       " DateTime(2020, 1, 6, 0, 0, 0, tzinfo=Timezone('UTC')),\n",
       " DateTime(2020, 1, 7, 0, 0, 0, tzinfo=Timezone('UTC')),\n",
       " DateTime(2020, 1, 8, 0, 0, 0, tzinfo=Timezone('UTC')),\n",
       " DateTime(2020, 1, 9, 0, 0, 0, tzinfo=Timezone('UTC')),\n",
       " DateTime(2020, 1, 10, 0, 0, 0, tzinfo=Timezone('UTC'))]"
      ]
     },
     "execution_count": 135,
     "metadata": {},
     "output_type": "execute_result"
    }
   ],
   "source": [
    "#时间序列\n",
    "start = pendulum.datetime(2020, 1, 1)\n",
    "end = pendulum.datetime(2020, 1, 10)\n",
    "period = pendulum.period(start, end)\n",
    "dlst=[t for t in period.range('days')]\n",
    "dlst\n",
    "#每两天：period.range('days', 2)"
   ]
  },
  {
   "cell_type": "markdown",
   "metadata": {},
   "source": [
    "他们文档直接挑战arrow\n",
    "\n",
    "Why not Arrow?\n",
    "most popular，however its behavior and API can be erratic and unpredictable. erratic：古怪，不可预知；\n",
    "文档中一些例子已经被arrow修复了；"
   ]
  },
  {
   "cell_type": "code",
   "execution_count": 114,
   "metadata": {},
   "outputs": [
    {
     "data": {
      "text/plain": [
       "<Arrow [2016-01-17T00:00:00+00:00]>"
      ]
     },
     "execution_count": 114,
     "metadata": {},
     "output_type": "execute_result"
    }
   ],
   "source": [
    "arrow.get('2016-1-17') #这个问题修复了，例子里返回是1月1号"
   ]
  },
  {
   "cell_type": "code",
   "execution_count": 116,
   "metadata": {},
   "outputs": [
    {
     "data": {
      "text/plain": [
       "(<Arrow [2016-04-13T00:00:00+00:00]>, <Arrow [2016-02-19T00:00:00+00:00]>)"
      ]
     },
     "execution_count": 116,
     "metadata": {},
     "output_type": "execute_result"
    }
   ],
   "source": [
    "arrow.get('20160413'),arrow.get('2016-W07-5')"
   ]
  },
  {
   "cell_type": "code",
   "execution_count": null,
   "metadata": {},
   "outputs": [],
   "source": []
  },
  {
   "cell_type": "markdown",
   "metadata": {},
   "source": [
    "文档里关于Limitations的内容都是关于数据库的\n",
    "\n",
    "### moment\n",
    "\n",
    "GitHub上简介中也说灵感来源于\n",
    "Inspired by Moment.js and Kenneth Reitz's Requests library. \n",
    "[https://github.com/zachwill/moment](https://github.com/zachwill/moment)"
   ]
  },
  {
   "cell_type": "code",
   "execution_count": 1,
   "metadata": {},
   "outputs": [
    {
     "ename": "ModuleNotFoundError",
     "evalue": "No module named 'moment'",
     "output_type": "error",
     "traceback": [
      "\u001b[1;31m---------------------------------------------------------------------------\u001b[0m",
      "\u001b[1;31mModuleNotFoundError\u001b[0m                       Traceback (most recent call last)",
      "\u001b[1;32m<ipython-input-1-8e20dd14f85e>\u001b[0m in \u001b[0;36m<module>\u001b[1;34m()\u001b[0m\n\u001b[1;32m----> 1\u001b[1;33m \u001b[1;32mimport\u001b[0m \u001b[0mmoment\u001b[0m \u001b[1;31m#因为pytz的问题安装不上？\u001b[0m\u001b[1;33m\u001b[0m\u001b[0m\n\u001b[0m",
      "\u001b[1;31mModuleNotFoundError\u001b[0m: No module named 'moment'"
     ]
    }
   ],
   "source": [
    "import moment #因为pytz的问题安装不上？"
   ]
  },
  {
   "cell_type": "code",
   "execution_count": 44,
   "metadata": {},
   "outputs": [],
   "source": [
    "#权限的问题，用pip install moment --user 去安装\n",
    "import moment"
   ]
  },
  {
   "cell_type": "code",
   "execution_count": 3,
   "metadata": {},
   "outputs": [
    {
     "data": {
      "text/plain": [
       "<Moment(2020-12-07T14:20:10)>"
      ]
     },
     "execution_count": 3,
     "metadata": {},
     "output_type": "execute_result"
    }
   ],
   "source": [
    "moment.date('2020-12-07 14:20:10') #返回它自己的datetime类的实例。要返回Python datetime对象，请添加一个date()调用。"
   ]
  },
  {
   "cell_type": "code",
   "execution_count": 4,
   "metadata": {},
   "outputs": [
    {
     "data": {
      "text/plain": [
       "<Moment(2020-11-24T11:06:10)>"
      ]
     },
     "execution_count": 4,
     "metadata": {},
     "output_type": "execute_result"
    }
   ],
   "source": [
    "#各种解析的方式都封装在date里了\n",
    "moment.date(\"12-18-2012\", \"%m-%d-%Y\")\n",
    "moment.date(\"December 18, 2012\")\n",
    "moment.date(\"2 weeks ago\")"
   ]
  },
  {
   "cell_type": "code",
   "execution_count": null,
   "metadata": {},
   "outputs": [],
   "source": [
    "#属性上 .weekday .seconds等能用"
   ]
  },
  {
   "cell_type": "code",
   "execution_count": null,
   "metadata": {},
   "outputs": [],
   "source": [
    "moment.date('tomorrow').add(days=2)"
   ]
  },
  {
   "cell_type": "code",
   "execution_count": 162,
   "metadata": {},
   "outputs": [],
   "source": [
    "moment.now() #也有moment.utcnow()可以用"
   ]
  },
  {
   "cell_type": "code",
   "execution_count": null,
   "metadata": {},
   "outputs": [],
   "source": [
    "moment.unix(1355875153626) #根据时间戳生成时间对象"
   ]
  },
  {
   "cell_type": "code",
   "execution_count": null,
   "metadata": {},
   "outputs": [],
   "source": [
    "moment.now().format(\"YYYY-M-D\") #转为字符串 \n",
    "#.strftime(\"%Y-%m-%d\") 也可以用"
   ]
  },
  {
   "cell_type": "code",
   "execution_count": null,
   "metadata": {},
   "outputs": [],
   "source": [
    "#.add() .subtract()\n",
    "moment.now().add(weeks=2)"
   ]
  },
  {
   "cell_type": "code",
   "execution_count": 45,
   "metadata": {},
   "outputs": [
    {
     "data": {
      "text/plain": [
       "<Moment(2020-12-02T16:24:23)>"
      ]
     },
     "execution_count": 45,
     "metadata": {},
     "output_type": "execute_result"
    }
   ],
   "source": [
    "moment.now().subtract(days=6)"
   ]
  },
  {
   "cell_type": "code",
   "execution_count": 5,
   "metadata": {},
   "outputs": [
    {
     "data": {
      "text/plain": [
       "<Moment(1984-01-08T11:06:24)>"
      ]
     },
     "execution_count": 5,
     "metadata": {},
     "output_type": "execute_result"
    }
   ],
   "source": [
    "#改时间用replace\n",
    "moment.now().replace(years=1984, months=1)"
   ]
  },
  {
   "cell_type": "code",
   "execution_count": 119,
   "metadata": {},
   "outputs": [
    {
     "data": {
      "text/plain": [
       "'2020-12-08'"
      ]
     },
     "execution_count": 119,
     "metadata": {},
     "output_type": "execute_result"
    }
   ],
   "source": [
    "dt.format('YYYY-MM-DD')"
   ]
  },
  {
   "cell_type": "code",
   "execution_count": 121,
   "metadata": {},
   "outputs": [
    {
     "data": {
      "text/plain": [
       "1607451077"
      ]
     },
     "execution_count": 121,
     "metadata": {},
     "output_type": "execute_result"
    }
   ],
   "source": [
    "dt.epoch()"
   ]
  },
  {
   "cell_type": "code",
   "execution_count": 124,
   "metadata": {},
   "outputs": [
    {
     "data": {
      "text/plain": [
       "2020"
      ]
     },
     "execution_count": 124,
     "metadata": {},
     "output_type": "execute_result"
    }
   ],
   "source": [
    "dt.year"
   ]
  },
  {
   "cell_type": "code",
   "execution_count": 164,
   "metadata": {},
   "outputs": [
    {
     "ename": "AttributeError",
     "evalue": "'Moment' object has no attribute 'humanize'",
     "output_type": "error",
     "traceback": [
      "\u001b[1;31m---------------------------------------------------------------------------\u001b[0m",
      "\u001b[1;31mAttributeError\u001b[0m                            Traceback (most recent call last)",
      "\u001b[1;32m<ipython-input-164-c524c915f287>\u001b[0m in \u001b[0;36m<module>\u001b[1;34m()\u001b[0m\n\u001b[1;32m----> 1\u001b[1;33m \u001b[0mdt\u001b[0m\u001b[1;33m.\u001b[0m\u001b[0mhumanize\u001b[0m\u001b[1;33m\u001b[0m\u001b[0m\n\u001b[0m",
      "\u001b[1;31mAttributeError\u001b[0m: 'Moment' object has no attribute 'humanize'"
     ]
    }
   ],
   "source": []
  },
  {
   "cell_type": "markdown",
   "metadata": {},
   "source": [
    "时间序列没有？"
   ]
  },
  {
   "cell_type": "markdown",
   "metadata": {},
   "source": [
    "### delorean\n",
    "\n",
    "以《Back to the Future》电影中的时间旅行汽车命名的；\n",
    "[doc](https://delorean.readthedocs.io/en/latest/)；\n",
    "\n",
    "Delorean stands on the shoulders of giants pytz and dateutil；\n",
    "\n"
   ]
  },
  {
   "cell_type": "code",
   "execution_count": 3,
   "metadata": {},
   "outputs": [],
   "source": [
    "from delorean import Delorean"
   ]
  },
  {
   "cell_type": "code",
   "execution_count": 96,
   "metadata": {},
   "outputs": [
    {
     "data": {
      "text/plain": [
       "Delorean(datetime=datetime.datetime(2020, 12, 7, 5, 45, 31, 907059), timezone='US/Eastern')"
      ]
     },
     "execution_count": 96,
     "metadata": {},
     "output_type": "execute_result"
    }
   ],
   "source": [
    "d = Delorean() #获取当前时间，相当于now？\n",
    "#d = Delorean(datetime=dt)\n",
    "d.shift('US/Eastern')"
   ]
  },
  {
   "cell_type": "code",
   "execution_count": 97,
   "metadata": {},
   "outputs": [
    {
     "data": {
      "text/plain": [
       "datetime.datetime(2020, 12, 7, 5, 45, 31, 907059, tzinfo=<DstTzInfo 'US/Eastern' EST-1 day, 19:00:00 STD>)"
      ]
     },
     "execution_count": 97,
     "metadata": {},
     "output_type": "execute_result"
    }
   ],
   "source": [
    "d.datetime #转为datetime类型 d.date d.naive 转为当前时间"
   ]
  },
  {
   "cell_type": "code",
   "execution_count": 108,
   "metadata": {},
   "outputs": [
    {
     "data": {
      "text/plain": [
       "Delorean(datetime=datetime.datetime(2011, 1, 1, 0, 0), timezone=pytz.FixedOffset(480))"
      ]
     },
     "execution_count": 108,
     "metadata": {},
     "output_type": "execute_result"
    }
   ],
   "source": [
    "from delorean import parse\n",
    "parse(\"2011/01/01 00:00:00 +0800\") #从字符串获取时间"
   ]
  },
  {
   "cell_type": "code",
   "execution_count": 114,
   "metadata": {},
   "outputs": [],
   "source": [
    "d=delorean.parse('2020/01/01')"
   ]
  },
  {
   "cell_type": "code",
   "execution_count": 98,
   "metadata": {},
   "outputs": [
    {
     "data": {
      "text/plain": [
       "1607337931.907059"
      ]
     },
     "execution_count": 98,
     "metadata": {},
     "output_type": "execute_result"
    }
   ],
   "source": [
    "d.epoch #转为时间戳"
   ]
  },
  {
   "cell_type": "code",
   "execution_count": 99,
   "metadata": {},
   "outputs": [
    {
     "data": {
      "text/plain": [
       "Delorean(datetime=datetime.datetime(2013, 1, 12, 6, 10, 38, 102223), timezone='UTC')"
      ]
     },
     "execution_count": 99,
     "metadata": {},
     "output_type": "execute_result"
    }
   ],
   "source": [
    "from delorean import epoch\n",
    "epoch(1357971038.102223) #时间戳转时间对象"
   ]
  },
  {
   "cell_type": "code",
   "execution_count": null,
   "metadata": {},
   "outputs": [],
   "source": [
    "delorean.epoch(ts)"
   ]
  },
  {
   "cell_type": "code",
   "execution_count": 103,
   "metadata": {},
   "outputs": [
    {
     "data": {
      "text/plain": [
       "Delorean(datetime=datetime.datetime(2020, 12, 7, 3, 45, 31, 907059), timezone='US/Eastern')"
      ]
     },
     "execution_count": 103,
     "metadata": {},
     "output_type": "execute_result"
    }
   ],
   "source": [
    "from datetime import timedelta\n",
    "d - timedelta(hours=2)"
   ]
  },
  {
   "cell_type": "code",
   "execution_count": 105,
   "metadata": {},
   "outputs": [
    {
     "data": {
      "text/plain": [
       "(Delorean(datetime=datetime.datetime(2020, 12, 8, 5, 45, 31, 907059), timezone='US/Eastern'),\n",
       " datetime.datetime(2020, 11, 24, 0, 0, tzinfo=<DstTzInfo 'US/Eastern' EST-1 day, 19:00:00 STD>))"
      ]
     },
     "execution_count": 105,
     "metadata": {},
     "output_type": "execute_result"
    }
   ],
   "source": [
    "d.next_tuesday(),d.last_tuesday(2).midnight"
   ]
  },
  {
   "cell_type": "code",
   "execution_count": 106,
   "metadata": {},
   "outputs": [
    {
     "data": {
      "text/plain": [
       "Delorean(datetime=datetime.datetime(2020, 12, 7, 8, 45, 31, 907059), timezone='US/Eastern')"
      ]
     },
     "execution_count": 106,
     "metadata": {},
     "output_type": "execute_result"
    }
   ],
   "source": [
    "d.replace(hour=8) #改时间"
   ]
  },
  {
   "cell_type": "code",
   "execution_count": 160,
   "metadata": {},
   "outputs": [
    {
     "data": {
      "text/plain": [
       "'11 months ago'"
      ]
     },
     "execution_count": 160,
     "metadata": {},
     "output_type": "execute_result"
    }
   ],
   "source": [
    "d.humanize()"
   ]
  },
  {
   "cell_type": "code",
   "execution_count": 107,
   "metadata": {},
   "outputs": [
    {
     "data": {
      "text/plain": [
       "Delorean(datetime=datetime.datetime(2020, 12, 7, 5, 0), timezone='US/Eastern')"
      ]
     },
     "execution_count": 107,
     "metadata": {},
     "output_type": "execute_result"
    }
   ],
   "source": [
    "#时间截断  Truncation 主要在判断是否是在同一个小时里(隐含条件是年月日都相同)\n",
    "d.truncate('hour') #分秒等都删掉 d.truncate('year')"
   ]
  },
  {
   "cell_type": "code",
   "execution_count": 116,
   "metadata": {},
   "outputs": [
    {
     "data": {
      "text/plain": [
       "2020"
      ]
     },
     "execution_count": 116,
     "metadata": {},
     "output_type": "execute_result"
    }
   ],
   "source": [
    "d.datetime.year #不能直接 d.year"
   ]
  },
  {
   "cell_type": "code",
   "execution_count": 117,
   "metadata": {},
   "outputs": [
    {
     "data": {
      "text/plain": [
       "'2020-01-01'"
      ]
     },
     "execution_count": 117,
     "metadata": {},
     "output_type": "execute_result"
    }
   ],
   "source": [
    "d.datetime.strftime('%Y-%m-%d')"
   ]
  },
  {
   "cell_type": "code",
   "execution_count": 111,
   "metadata": {},
   "outputs": [
    {
     "name": "stdout",
     "output_type": "stream",
     "text": [
      "Delorean(datetime=datetime.datetime(2020, 12, 7, 11, 58, 36), timezone='UTC')\n",
      "Delorean(datetime=datetime.datetime(2020, 12, 7, 12, 58, 36), timezone='UTC')\n",
      "Delorean(datetime=datetime.datetime(2020, 12, 7, 13, 58, 36), timezone='UTC')\n",
      "Delorean(datetime=datetime.datetime(2020, 12, 7, 14, 58, 36), timezone='UTC')\n",
      "Delorean(datetime=datetime.datetime(2020, 12, 7, 15, 58, 36), timezone='UTC')\n",
      "Delorean(datetime=datetime.datetime(2020, 12, 7, 16, 58, 36), timezone='UTC')\n",
      "Delorean(datetime=datetime.datetime(2020, 12, 7, 17, 58, 36), timezone='UTC')\n",
      "Delorean(datetime=datetime.datetime(2020, 12, 7, 18, 58, 36), timezone='UTC')\n",
      "Delorean(datetime=datetime.datetime(2020, 12, 7, 19, 58, 36), timezone='UTC')\n",
      "Delorean(datetime=datetime.datetime(2020, 12, 7, 20, 58, 36), timezone='UTC')\n"
     ]
    }
   ],
   "source": [
    "#时间序列\n",
    "import delorean\n",
    "#dlst=[for t in delorean.stops(freq=delorean.HOURLY,count=10)]\n",
    "for t in delorean.stops(freq=delorean.HOURLY,count=10):\n",
    "    print(t)\n",
    "#每小时 可以传入的参数有start=dt ，stop\n",
    "#迭代器的写法居然不可以"
   ]
  },
  {
   "cell_type": "code",
   "execution_count": 4,
   "metadata": {},
   "outputs": [],
   "source": [
    "#normalizing – shifting a localized datetime object from one timezone to another,\n",
    "?Delorean"
   ]
  },
  {
   "cell_type": "markdown",
   "metadata": {},
   "source": [
    "### Maya\n",
    "Maya包含了其他流行的库，诸如Humanize，pytz和pendulum等等。该项目的目标是让人们更容易处理日期。[doc](https://github.com/timofurrer/maya)"
   ]
  },
  {
   "cell_type": "code",
   "execution_count": 5,
   "metadata": {},
   "outputs": [],
   "source": [
    "import maya"
   ]
  },
  {
   "cell_type": "code",
   "execution_count": 127,
   "metadata": {},
   "outputs": [
    {
     "data": {
      "text/plain": [
       "<MayaDT epoch=1607422795.3375723>"
      ]
     },
     "execution_count": 127,
     "metadata": {},
     "output_type": "execute_result"
    }
   ],
   "source": [
    "maya.now() #是按时间戳表示的"
   ]
  },
  {
   "cell_type": "code",
   "execution_count": 21,
   "metadata": {},
   "outputs": [
    {
     "name": "stdout",
     "output_type": "stream",
     "text": [
      "Tue, 08 Dec 2020 03:20:32 GMT\n"
     ]
    }
   ],
   "source": [
    "print(maya.now()) #用print的时候会进行一个格式化"
   ]
  },
  {
   "cell_type": "code",
   "execution_count": 10,
   "metadata": {},
   "outputs": [
    {
     "data": {
      "text/plain": [
       "<MayaDT epoch=1607483629.20923>"
      ]
     },
     "execution_count": 10,
     "metadata": {},
     "output_type": "execute_result"
    }
   ],
   "source": [
    "maya.when('tomorrow') #明天的这个时候，相当于加24小时，不是明天0点"
   ]
  },
  {
   "cell_type": "code",
   "execution_count": 11,
   "metadata": {},
   "outputs": [
    {
     "data": {
      "text/plain": [
       "'in 23 hours'"
      ]
     },
     "execution_count": 11,
     "metadata": {},
     "output_type": "execute_result"
    }
   ],
   "source": [
    "maya.when('tomorrow').slang_time()  #将日期时间表示为人类可读的短语\n",
    "#还有个.slang_date() 对应的是年月日角度的自然语言\n",
    "#slang：俚语"
   ]
  },
  {
   "cell_type": "code",
   "execution_count": 16,
   "metadata": {},
   "outputs": [
    {
     "data": {
      "text/plain": [
       "<MayaDT epoch=1297036800.0>"
      ]
     },
     "execution_count": 16,
     "metadata": {},
     "output_type": "execute_result"
    }
   ],
   "source": [
    "maya.when('2011-02-07')"
   ]
  },
  {
   "cell_type": "code",
   "execution_count": 32,
   "metadata": {},
   "outputs": [
    {
     "data": {
      "text/plain": [
       "<MayaDT epoch=-30259958400.0>"
      ]
     },
     "execution_count": 32,
     "metadata": {},
     "output_type": "execute_result"
    }
   ],
   "source": [
    "maya.when('1011-02-07') #因为是用的epoch，小于1970年是负数\n",
    "#based around epoch time  before Jan 1 1970 are indeed supported, via negative integers."
   ]
  },
  {
   "cell_type": "code",
   "execution_count": 13,
   "metadata": {},
   "outputs": [
    {
     "data": {
      "text/plain": [
       "datetime.datetime(2020, 12, 8, 3, 16, 9, 147942, tzinfo=<UTC>)"
      ]
     },
     "execution_count": 13,
     "metadata": {},
     "output_type": "execute_result"
    }
   ],
   "source": [
    "maya.now().datetime() #转为datetime格式，用的是UTC时区\n",
    "#maya.now().datetime(to_timezone='Asia/Shanghai')"
   ]
  },
  {
   "cell_type": "code",
   "execution_count": 12,
   "metadata": {},
   "outputs": [
    {
     "data": {
      "text/plain": [
       "'2020-12-08T03:15:46.636102Z'"
      ]
     },
     "execution_count": 12,
     "metadata": {},
     "output_type": "execute_result"
    }
   ],
   "source": [
    "maya.now().iso8601() #输出为对应格式的字符串"
   ]
  },
  {
   "cell_type": "code",
   "execution_count": 31,
   "metadata": {},
   "outputs": [
    {
     "data": {
      "text/plain": [
       "'Tue, 08 Dec 2020 03:32:35 GMT'"
      ]
     },
     "execution_count": 31,
     "metadata": {},
     "output_type": "execute_result"
    }
   ],
   "source": [
    "maya.now().rfc2822()"
   ]
  },
  {
   "cell_type": "code",
   "execution_count": 15,
   "metadata": {},
   "outputs": [
    {
     "data": {
      "text/plain": [
       "<MayaDT epoch=1607397346.636102>"
      ]
     },
     "execution_count": 15,
     "metadata": {},
     "output_type": "execute_result"
    }
   ],
   "source": [
    "maya.parse('2020-12-08T03:15:46.636102Z') #字符串转maya时间对象"
   ]
  },
  {
   "cell_type": "code",
   "execution_count": 19,
   "metadata": {},
   "outputs": [
    {
     "data": {
      "text/plain": [
       "<MayaDT epoch=1607426386.667723>"
      ]
     },
     "execution_count": 19,
     "metadata": {},
     "output_type": "execute_result"
    }
   ],
   "source": [
    "from datetime import datetime\n",
    "maya.MayaDT.from_datetime(datetime.now())"
   ]
  },
  {
   "cell_type": "code",
   "execution_count": null,
   "metadata": {},
   "outputs": [],
   "source": [
    "import time\n",
    "maya.MayaDT.from_struct(time.gmtime())"
   ]
  },
  {
   "cell_type": "code",
   "execution_count": 22,
   "metadata": {},
   "outputs": [
    {
     "data": {
      "text/plain": [
       "8"
      ]
     },
     "execution_count": 22,
     "metadata": {},
     "output_type": "execute_result"
    }
   ],
   "source": [
    "#属性上\n",
    "now.day #.timezone 等等"
   ]
  },
  {
   "cell_type": "code",
   "execution_count": 23,
   "metadata": {},
   "outputs": [
    {
     "data": {
      "text/plain": [
       "<MayaDT epoch=1608261154.524246>"
      ]
     },
     "execution_count": 23,
     "metadata": {},
     "output_type": "execute_result"
    }
   ],
   "source": [
    "#时间加减\n",
    "now.add(days=10)  #写now.add(days=-10) 也可以的"
   ]
  },
  {
   "cell_type": "code",
   "execution_count": 50,
   "metadata": {},
   "outputs": [
    {
     "data": {
      "text/plain": [
       "<MayaDT epoch=1606533154.524246>"
      ]
     },
     "execution_count": 50,
     "metadata": {},
     "output_type": "execute_result"
    }
   ],
   "source": [
    "now.subtract(days=10)"
   ]
  },
  {
   "cell_type": "code",
   "execution_count": 24,
   "metadata": {},
   "outputs": [
    {
     "data": {
      "text/plain": [
       "'2020-12-08T03:00:00Z'"
      ]
     },
     "execution_count": 24,
     "metadata": {},
     "output_type": "execute_result"
    }
   ],
   "source": [
    "#改时间\n",
    "now.snap('@d+3h').iso8601()"
   ]
  },
  {
   "cell_type": "code",
   "execution_count": 131,
   "metadata": {},
   "outputs": [
    {
     "ename": "TypeError",
     "evalue": "'property' object is not callable",
     "output_type": "error",
     "traceback": [
      "\u001b[1;31m---------------------------------------------------------------------------\u001b[0m",
      "\u001b[1;31mTypeError\u001b[0m                                 Traceback (most recent call last)",
      "\u001b[1;32m<ipython-input-131-4525c60dd36a>\u001b[0m in \u001b[0;36m<module>\u001b[1;34m()\u001b[0m\n\u001b[1;32m----> 1\u001b[1;33m \u001b[0mmaya\u001b[0m\u001b[1;33m.\u001b[0m\u001b[0mMayaDT\u001b[0m\u001b[1;33m.\u001b[0m\u001b[0mepoch\u001b[0m\u001b[1;33m(\u001b[0m\u001b[1;36m1606533154\u001b[0m\u001b[1;33m)\u001b[0m\u001b[1;33m\u001b[0m\u001b[0m\n\u001b[0m",
      "\u001b[1;31mTypeError\u001b[0m: 'property' object is not callable"
     ]
    }
   ],
   "source": [
    "maya.MayaDT.epoch(1606533154)"
   ]
  },
  {
   "cell_type": "code",
   "execution_count": 134,
   "metadata": {},
   "outputs": [
    {
     "data": {
      "text/plain": [
       "<MayaDT epoch=1607424741.8856437>"
      ]
     },
     "execution_count": 134,
     "metadata": {},
     "output_type": "execute_result"
    }
   ],
   "source": [
    "maya.MayaDT(time.time()) #时间戳转时间对象(MayaDT)"
   ]
  },
  {
   "cell_type": "code",
   "execution_count": 135,
   "metadata": {},
   "outputs": [
    {
     "data": {
      "text/plain": [
       "<MayaDT epoch=1606533154>"
      ]
     },
     "execution_count": 135,
     "metadata": {},
     "output_type": "execute_result"
    }
   ],
   "source": [
    "maya.MayaDT(1606533154)"
   ]
  },
  {
   "cell_type": "code",
   "execution_count": null,
   "metadata": {},
   "outputs": [],
   "source": [
    "dt.year"
   ]
  },
  {
   "cell_type": "code",
   "execution_count": 27,
   "metadata": {},
   "outputs": [
    {
     "ename": "AttributeError",
     "evalue": "'MayaDT' object has no attribute 'snap_tz'",
     "output_type": "error",
     "traceback": [
      "\u001b[1;31m---------------------------------------------------------------------------\u001b[0m",
      "\u001b[1;31mAttributeError\u001b[0m                            Traceback (most recent call last)",
      "\u001b[1;32m<ipython-input-27-5ef676c60da4>\u001b[0m in \u001b[0;36m<module>\u001b[1;34m()\u001b[0m\n\u001b[0;32m      1\u001b[0m \u001b[1;31m#改时区\u001b[0m\u001b[1;33m\u001b[0m\u001b[1;33m\u001b[0m\u001b[0m\n\u001b[1;32m----> 2\u001b[1;33m \u001b[0mnow\u001b[0m\u001b[1;33m.\u001b[0m\u001b[0msnap_tz\u001b[0m\u001b[1;33m(\u001b[0m\u001b[1;34m'+3h@d'\u001b[0m\u001b[1;33m,\u001b[0m \u001b[1;34m'Australia/Perth'\u001b[0m\u001b[1;33m)\u001b[0m\u001b[1;33m.\u001b[0m\u001b[0mrfc2822\u001b[0m\u001b[1;33m(\u001b[0m\u001b[1;33m)\u001b[0m\u001b[1;33m\u001b[0m\u001b[0m\n\u001b[0m",
      "\u001b[1;31mAttributeError\u001b[0m: 'MayaDT' object has no attribute 'snap_tz'"
     ]
    }
   ],
   "source": [
    "#改时区 AttributeError: 'MayaDT' object has no attribute 'snap_tz'\n",
    "now.snap_tz('+3h@d', 'Australia/Perth').rfc2822()"
   ]
  },
  {
   "cell_type": "code",
   "execution_count": 143,
   "metadata": {},
   "outputs": [
    {
     "data": {
      "text/plain": [
       "datetime.datetime(2020, 12, 8, 18, 19, 51, 413796, tzinfo=<DstTzInfo 'Asia/Shanghai' CST+8:00:00 STD>)"
      ]
     },
     "execution_count": 143,
     "metadata": {},
     "output_type": "execute_result"
    }
   ],
   "source": [
    "#上面没接口了\n",
    "dt.datetime(to_timezone='Asia/Shanghai')"
   ]
  },
  {
   "cell_type": "code",
   "execution_count": 28,
   "metadata": {},
   "outputs": [
    {
     "data": {
      "text/plain": [
       "[<MayaDT epoch=1607398048.00076>,\n",
       " <MayaDT epoch=1607401648.00076>,\n",
       " <MayaDT epoch=1607405248.00076>,\n",
       " <MayaDT epoch=1607408848.00076>,\n",
       " <MayaDT epoch=1607412448.00076>,\n",
       " <MayaDT epoch=1607416048.00076>,\n",
       " <MayaDT epoch=1607419648.00076>,\n",
       " <MayaDT epoch=1607423248.00076>,\n",
       " <MayaDT epoch=1607426848.00076>,\n",
       " <MayaDT epoch=1607430448.00076>,\n",
       " <MayaDT epoch=1607434048.00076>,\n",
       " <MayaDT epoch=1607437648.00076>,\n",
       " <MayaDT epoch=1607441248.00076>,\n",
       " <MayaDT epoch=1607444848.00076>,\n",
       " <MayaDT epoch=1607448448.00076>,\n",
       " <MayaDT epoch=1607452048.00076>,\n",
       " <MayaDT epoch=1607455648.00076>,\n",
       " <MayaDT epoch=1607459248.00076>,\n",
       " <MayaDT epoch=1607462848.00076>,\n",
       " <MayaDT epoch=1607466448.00076>,\n",
       " <MayaDT epoch=1607470048.00076>,\n",
       " <MayaDT epoch=1607473648.00076>,\n",
       " <MayaDT epoch=1607477248.00076>,\n",
       " <MayaDT epoch=1607480848.00076>]"
      ]
     },
     "execution_count": 28,
     "metadata": {},
     "output_type": "execute_result"
    }
   ],
   "source": [
    "#时间序列\n",
    "w=maya.intervals(start=maya.now(), end=maya.now().add(days=1), interval=60*60)\n",
    "#60*60是每小时，所以interval是秒\n",
    "[i for i in w]"
   ]
  },
  {
   "cell_type": "code",
   "execution_count": 29,
   "metadata": {},
   "outputs": [
    {
     "data": {
      "text/plain": [
       "<MayaInterval start=<MayaDT epoch=1607397154.524246> end=<MayaDT epoch=1607400754.524246>>"
      ]
     },
     "execution_count": 29,
     "metadata": {},
     "output_type": "execute_result"
    }
   ],
   "source": [
    "#或者用MayaInterval类，更强大 wonderfully powerful\n",
    "maya.MayaInterval(start=now, end=now.add(hours=1))"
   ]
  },
  {
   "cell_type": "code",
   "execution_count": 30,
   "metadata": {},
   "outputs": [
    {
     "data": {
      "text/plain": [
       "[<MayaDT epoch=1607397154.524246>, <MayaDT epoch=1607400754.524246>]"
      ]
     },
     "execution_count": 30,
     "metadata": {},
     "output_type": "execute_result"
    }
   ],
   "source": [
    "[i for i in maya.MayaInterval(start=now, end=now.add(hours=1))]"
   ]
  },
  {
   "cell_type": "code",
   "execution_count": 140,
   "metadata": {},
   "outputs": [
    {
     "data": {
      "text/plain": [
       "'2020-12-08'"
      ]
     },
     "execution_count": 140,
     "metadata": {},
     "output_type": "execute_result"
    }
   ],
   "source": [
    "maya.Datetime.strftime(dt.datetime(),'%Y-%m-%d')"
   ]
  },
  {
   "cell_type": "code",
   "execution_count": 6,
   "metadata": {},
   "outputs": [],
   "source": [
    "?maya"
   ]
  },
  {
   "cell_type": "markdown",
   "metadata": {},
   "source": [
    "文档里认为py处理时间时，对于不同时区、不同系统的情况感到令人沮丧（frustrating）\n",
    "\n",
    "This library exists to make the simple things much easier, while admitting that time is an illusion\n",
    "（这句话挺难理解的）\n",
    "Datetimes should be interacted with via an API written for humans.\n",
    "\n",
    "文档说其优势是对时区问题进行统一处理\n",
    "\n",
    "自然语言的输入、输出\n",
    "\n",
    "Maya never panics, and always carries a towel.\n",
    "（银河系漫游指南的梗 不惊慌，总是带着毛巾）\n",
    "\n",
    "\n",
    "I think these projects complement each-other, personally. Maya is great for parsing websites, and dealing with calendar events!\n",
    "\n",
    "sane：理智"
   ]
  },
  {
   "cell_type": "markdown",
   "metadata": {},
   "source": [
    "### Freezegun\n",
    "\n",
    "\n",
    "功能是调用freeze_time后，程序运行返回的时间就是冻结所在的时间，相当于测试任务是在那个时间运行的；\n",
    "\n",
    "主要应用场景是做测试时保证输入的一致性；\n",
    "\n",
    "FreezeGun is a library that allows your Python tests to travel through time by mocking the datetime module.[github](https://github.com/spulec/freezegun)"
   ]
  },
  {
   "cell_type": "code",
   "execution_count": 88,
   "metadata": {},
   "outputs": [
    {
     "data": {
      "text/plain": [
       "FakeDatetime(2012, 1, 14, 0, 0)"
      ]
     },
     "execution_count": 88,
     "metadata": {},
     "output_type": "execute_result"
    }
   ],
   "source": [
    "from freezegun import freeze_time\n",
    "@freeze_time(\"2012-01-14\")\n",
    "def test():\n",
    "    return datetime.now()\n",
    "test()"
   ]
  },
  {
   "cell_type": "code",
   "execution_count": 91,
   "metadata": {},
   "outputs": [],
   "source": [
    "@freeze_time(\"2012-01-14\")\n",
    "def test():\n",
    "    assert datetime.now() == datetime(2012, 1, 14)\n",
    "test()"
   ]
  },
  {
   "cell_type": "code",
   "execution_count": 92,
   "metadata": {},
   "outputs": [
    {
     "name": "stdout",
     "output_type": "stream",
     "text": [
      "2012-01-14 12:00:01\n"
     ]
    }
   ],
   "source": [
    "freezer = freeze_time(\"2012-01-14 12:00:01\")\n",
    "freezer.start()\n",
    "print(datetime.now())\n",
    "freezer.stop()"
   ]
  },
  {
   "cell_type": "code",
   "execution_count": 93,
   "metadata": {},
   "outputs": [
    {
     "name": "stdout",
     "output_type": "stream",
     "text": [
      "2012-01-14 12:00:01\n"
     ]
    }
   ],
   "source": [
    "freezer = freeze_time(\"2012-01-14 12:00:01\")\n",
    "freezer.start()\n",
    "time.sleep(1)\n",
    "print(datetime.now())\n",
    "freezer.stop()"
   ]
  },
  {
   "cell_type": "code",
   "execution_count": 94,
   "metadata": {},
   "outputs": [
    {
     "name": "stdout",
     "output_type": "stream",
     "text": [
      "2012-01-14 12:00:02.013400\n"
     ]
    }
   ],
   "source": [
    "freezer = freeze_time(\"2012-01-14 12:00:01\",tick=True)\n",
    "freezer.start()\n",
    "time.sleep(1)\n",
    "print(datetime.now())\n",
    "freezer.stop()"
   ]
  },
  {
   "cell_type": "code",
   "execution_count": null,
   "metadata": {},
   "outputs": [],
   "source": []
  },
  {
   "cell_type": "markdown",
   "metadata": {},
   "source": [
    "## 时间序列\n",
    "\n",
    "时间序列数据的来源是周期性的测量或观测，eg：一段时间内的股票价格，每天GMV，一段时间内的电力或天然气消耗率；\n",
    "\n",
    "时间序列的时间间隔可以是：特定日期、持续时间或固定的自定义间隔"
   ]
  },
  {
   "cell_type": "code",
   "execution_count": null,
   "metadata": {},
   "outputs": [],
   "source": []
  },
  {
   "cell_type": "code",
   "execution_count": null,
   "metadata": {},
   "outputs": [],
   "source": []
  }
 ],
 "metadata": {
  "kernelspec": {
   "display_name": "Python 3",
   "language": "python",
   "name": "python3"
  },
  "language_info": {
   "codemirror_mode": {
    "name": "ipython",
    "version": 3
   },
   "file_extension": ".py",
   "mimetype": "text/x-python",
   "name": "python",
   "nbconvert_exporter": "python",
   "pygments_lexer": "ipython3",
   "version": "3.7.0"
  },
  "toc": {
   "base_numbering": 1,
   "nav_menu": {},
   "number_sections": true,
   "sideBar": true,
   "skip_h1_title": false,
   "title_cell": "Table of Contents",
   "title_sidebar": "Contents",
   "toc_cell": false,
   "toc_position": {
    "height": "calc(100% - 180px)",
    "left": "10px",
    "top": "150px",
    "width": "164.988px"
   },
   "toc_section_display": true,
   "toc_window_display": true
  }
 },
 "nbformat": 4,
 "nbformat_minor": 2
}
