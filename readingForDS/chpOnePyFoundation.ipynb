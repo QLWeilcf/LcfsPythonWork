{
 "cells": [
  {
   "cell_type": "markdown",
   "metadata": {},
   "source": [
    "reading **Foundations for Analysis with Python**\n",
    "\n",
    "   今天从第一章开始，《Python数据分析基础》整本书200多页，并不多，书中的内容注重基础，对代码的讲解比较详细（关于本书特点请参考README.md）。本书关于一些建模和挖掘的算法讲得比较少，因此消化本书后会结合其他书（例如《数据挖掘导论》），会写一些关于算法的笔记。本系列笔记主要目的还是作为自己精读本书和巩固Python的笔记，同时也希望给阅读《Python数据分析基础》的人一个参考。\n",
    "   \n",
    "   这篇笔记略过一些安装的细节，着重实践第一章的基本数据存贮类型，会有一定跳跃，笔记中主要举比较常用的例子用以说明比较重要的内容，而不会面面俱到，不会完全按照书中的讲解顺序（因为这样就变成对本书的一个复刻而不是阅读消化了），但对于书中讲到比较核心的内容也会记得比较详细，要理解本系列笔记需要一定的Python基础，对小白可能不太友好。\n",
    "\n",
    "### 目录\n",
    "\n",
    "- 运行环境与交互\n",
    "- 数值\n",
    "- 字符串\n",
    "- 日期\n"
   ]
  },
  {
   "cell_type": "markdown",
   "metadata": {},
   "source": [
    "# 运行环境与交互\n",
    "本系列笔记基于Python 3.6；集成环境采用Anaconda；Excel编辑会用到MS的Excel 2016；文本数据（如csv文件和一般Python脚本）采用Notepad++ v7.4.1进行编写，Python脚本全采用UTF-8编码。\n",
    "\n",
    "代码以及笔记的编辑主要是基于Anaconda包含的jupyter notebook（原来叫ipython notebook），书中比较常用到Anaconda的Spyder，做数据科学的人一般会更习惯于用jupyter notebook，偶尔本GitHub目录下会提供标准的以 .py 结尾的脚本。\n",
    "\n",
    "略过Anaconda以及其他软件的安装过程（因为我安了有一定时间了，也没有截图，需要了解运行环境配置的同学请参考[Anaconda安装](https://jingyan.baidu.com/article/fd8044faca4cd75031137ac8.html)等教程）。\n",
    "\n",
    "本系列笔记编程交互基于jupyter notebook，效果如下：\n",
    "\n",
    "![image](./dsIpynbPic/runningAtJupyterNotebook.png)\n",
    "\n",
    "书中花了一定篇幅讲如何在命令行下运行Python脚本，其基本思路是用Notepad++等文本编辑工具编辑好以.py结尾的脚本文件后，在cmd下定位到文件所在目录，输入 python 文件名.py 运行，该方法对于Windows系统和Python3没问题（如下图）。在Mac下相应的命令为 chmod +x 文件名.py 再./文件名.py\n",
    "\n",
    "![image](./dsIpynbPic/runningPyScriptIncmd.png)\n",
    "\n",
    "# 数值\n",
    "Python对数字的分类不像其他语言那么详细，并且支持大数，能装下像C++语言的long类型都装不下的数值。可以粗略地将Python的数字类型分为整数、浮点数、长整数以及复数。后续笔记会提到的numpy库为了提高计算速度细分了int32 int64等类型，这个后面再说。\n",
    "数值类型的变量表达如下：（有其他语言基础的人请区分主流的 int a=2; 以及go的 var a int=2 以及Python的）"
   ]
  },
  {
   "cell_type": "code",
   "execution_count": 23,
   "metadata": {
    "collapsed": false
   },
   "outputs": [
    {
     "name": "stdout",
     "output_type": "stream",
     "text": [
      "2 3.14 2.5 2 1\n",
      "<class 'float'>\n",
      "(4+3j)\n"
     ]
    }
   ],
   "source": [
    "a=2 #整数   Python用#进行注释 \n",
    "b=3.14 #浮点数\n",
    "c=5/2  #Python3中得到浮点数2.5 而Python2得到的是整除的结果\n",
    "d=5//2  #Python3的整除\n",
    "e=5%2  #取余数\n",
    "f=4+3j  #复数类型\n",
    "print(a,b,c,d,e) #输出\n",
    "print(type(c)) #type(val) 函数会返回val的数据类型\n",
    "print(f)\n",
    "#书中有简单提到math库，由于展开需要讲很多内容，本处不展开，内置math库包含了很多数学运算函数"
   ]
  },
  {
   "cell_type": "markdown",
   "metadata": {},
   "source": [
    "# 字符串"
   ]
  },
  {
   "cell_type": "code",
   "execution_count": 24,
   "metadata": {
    "collapsed": false
   },
   "outputs": [
    {
     "name": "stdout",
     "output_type": "stream",
     "text": [
      "this is a string string2\n",
      "2\n"
     ]
    }
   ],
   "source": [
    "k='this is a string' #字符串类型\n",
    "s=\"string2\" #用单引号或者双引号都可以，其他语言一般用单引号表示一个字符\n",
    "print(k,w)\n",
    "print(d) #jupyter中，上一个cell引入的变量可在下一个cell使用"
   ]
  },
  {
   "cell_type": "code",
   "execution_count": 25,
   "metadata": {
    "collapsed": false
   },
   "outputs": [
    {
     "name": "stdout",
     "output_type": "stream",
     "text": [
      "is\n"
     ]
    }
   ],
   "source": [
    "# 正则表达式是很强大的字符串解析方式，可以实现很多功能\n",
    "import re  #引入一个库 用 import 库名\n",
    "patz=re.compile(r'is')\n",
    "pu=patz.search(k)\n",
    "if pu!=None: #如果能匹配上\n",
    "    print(pu[0])"
   ]
  },
  {
   "cell_type": "markdown",
   "metadata": {},
   "source": [
    "本身字符串内置了一些很有用的处理方法，如下：\n",
    "- s.join(lst) #使用s作为连接符连接序列lst中的字符串元素\n",
    "- s.split(w) #以w作为分隔符，得到一个字符串列表\n",
    "- s.strip(chr) #删除开头和结尾的字符chr\n",
    "- 还有lower、upper等函数"
   ]
  },
  {
   "cell_type": "code",
   "execution_count": 26,
   "metadata": {
    "collapsed": false
   },
   "outputs": [
    {
     "name": "stdout",
     "output_type": "stream",
     "text": [
      "s1=a*b*c\n",
      "['this', 'is', 'a', 'str']\n",
      "23456\n"
     ]
    }
   ],
   "source": [
    "#例子\n",
    "s1='*'.join(['a','b','c'])\n",
    "s2='this is a str'.split(' ') #以空格切分\n",
    "s3='**23456***'.strip('*')\n",
    "print('s1={0:s}'.format(s1))\n",
    "print(s2)\n",
    "print(s3)"
   ]
  },
  {
   "cell_type": "markdown",
   "metadata": {},
   "source": [
    "## 日期\n",
    "日期也是数据分析经常遇到的一种数据类型，特别是金融方面，时间序列分析是数据分析很重要的一个研究领域，本书中说：\n",
    "> 日期在大多数商业应用中都是必不可少的。你需要知道一个事件在何时发生，距离这件事\n",
    "发生还有多少时间，或者几个事件之间的时间间隔。因为日期是很多应用的核心。--P19\n",
    "\n",
    "Python中提供了很多库用于时间处理，内置的datetime库很挺好用的，也有很多第三方的日期时间库。书中只讲了datetime（至少第一章只讲了datetime）。"
   ]
  },
  {
   "cell_type": "code",
   "execution_count": 27,
   "metadata": {
    "collapsed": false
   },
   "outputs": [
    {
     "name": "stdout",
     "output_type": "stream",
     "text": [
      "2018-03-13\n",
      "2018-03-14\n",
      "2018\n"
     ]
    }
   ],
   "source": [
    "from datetime import date,datetime,timedelta\n",
    "today = date.today() #获得今天的日期\n",
    "yesterday=today-timedelta(days=-1)\n",
    "print(today) #print 出来\n",
    "print(yesterday)\n",
    "print(today.year)"
   ]
  },
  {
   "cell_type": "code",
   "execution_count": 28,
   "metadata": {
    "collapsed": false
   },
   "outputs": [
    {
     "name": "stdout",
     "output_type": "stream",
     "text": [
      "2018-03-13\n"
     ]
    }
   ],
   "source": [
    "#以图灵的Happy Hacking 2018 编程日历里的代码举例\n",
    "now=datetime.now()\n",
    "print(now.strftime('%Y-%m-%d')) #格式化输出"
   ]
  },
  {
   "cell_type": "markdown",
   "metadata": {},
   "source": [
    "今天的学习先整理这些，明天会继续《Python数据分析基础》的学习，会比较深入地记关于列表/元组/字典三种内置数据保存方式，还有文本文件的读写。\n",
    "如果读者有任何意见或建议，欢迎补充！"
   ]
  }
 ],
 "metadata": {
  "kernelspec": {
   "display_name": "Python 3",
   "language": "python",
   "name": "python3"
  },
  "language_info": {
   "codemirror_mode": {
    "name": "ipython",
    "version": 3
   },
   "file_extension": ".py",
   "mimetype": "text/x-python",
   "name": "python",
   "nbconvert_exporter": "python",
   "pygments_lexer": "ipython3",
   "version": "3.6.0"
  }
 },
 "nbformat": 4,
 "nbformat_minor": 2
}
