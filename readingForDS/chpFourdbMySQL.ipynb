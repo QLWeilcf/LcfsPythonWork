{
 "cells": [
  {
   "cell_type": "markdown",
   "metadata": {},
   "source": [
    "上一篇笔记通过 sqlite3 创建了内存上的数据库，或者是在硬盘上的小数据库，然后对创建的数据库分别进行批量增加数据、更新表中记录、查询相关记录、删除特定记录。简单说就是增/删/改/查的内容，这些是本篇笔记的基础内容。回顾这部分内容请戳[chpFourDBsqlite.ipynb](./chpFourDBsqlite.ipynb)。本篇笔记通过连接和操纵MySQL实现**增/删/改/查**。\n",
    "\n",
    "### 目录\n",
    "- MySQL简介\n",
    "- 向表中插入新记录\n",
    "- 查询一个表并将输出写入CSV文件\n",
    "- 更新表中记录\n",
    "\n",
    "\n",
    "\n",
    "## MySQL简介\n",
    "\n",
    "MySQL 是一个关系型数据库，由瑞典 MySQL AB 公司开发，目前属于 Oracle 旗下公司。MySQL 是最流行的关系型数据库管理系统。在开源数据库中它占着最大的份额。可以参考下面的数据库排名：\n",
    "\n",
    "![db_engines_ranking](./dsIpynbPic/db_engines_ranking_2018_03.png)\n",
    "\n",
    "实时排名可以参考[DB_Ranking](https://db-engines.com/en/ranking)。\n",
    "\n",
    "在Python3中一般连接和操作MySQL的方式是用mysqlclient库，书中说“如果你安装了 Anaconda Python，那么你就已经安装了这个扩展包”，但实际直接 import MySQLdb 时会报错： ModuleNotFoundError: No module named 'MySQLdb' ，通过pip安装一下就好。该库可以使 Python 与数据库进行交互， 所以我们使用它与在本节中创建的 MySQL 数据表进行交互。本篇笔记需要有MySQL数据库系统，《Python数据分析基础》在附录A中简要说明了MySQL的安装，如果没有安装MySQL建议看本书附录或者网上参照教程安装好环境。\n",
    "\n",
    "![pip_install_mysqlclient](./dsIpynbPic/pip_to_install_mysqlclient.png)"
   ]
  },
  {
   "cell_type": "markdown",
   "metadata": {},
   "source": [
    "## 向表中插入新记录\n",
    "\n",
    "这篇笔记不从手动改 data = [('Richard Lucas', 'Notepad', 4.50, '2014-01-02')] 然后用 statement = \"INSERT INTO sales VALUES(?, ?, ?, ?)\" 开始说，而是直接从一个 CSV 文件中将记录加载到数据表中，要实现这个功能和上一篇笔记的思路一样：连接数据库后读取文件到data里，用execute() 执行SQL，再关闭文件。"
   ]
  },
  {
   "cell_type": "code",
   "execution_count": 1,
   "metadata": {
    "collapsed": true
   },
   "outputs": [],
   "source": [
    "def csvDataToMySQL(input_file): #输入为csv文件路径\n",
    "    import csv\n",
    "    import MySQLdb\n",
    "    import sys\n",
    "    from datetime import datetime, date\n",
    "\n",
    "    # 连接MySQL数据库\n",
    "    con = MySQLdb.connect(host='localhost', port=3306, db='my_suppliers', user='用户名', passwd='数据库密码')\n",
    "    c = con.cursor()\n",
    "\n",
    "    # 向Suppliers表中插入数据 \n",
    "    file_reader = csv.reader(open(input_file, 'r'), delimiter=',')\n",
    "    header = next(file_reader) #读取数据\n",
    "    for row in file_reader:\n",
    "        data = []\n",
    "        for column_index in range(len(header)):\n",
    "            if column_index < 4:\n",
    "                data.append(str(row[column_index]).lstrip('$').replace(',', '').strip())\n",
    "                #压制成格式化的data\n",
    "            else: \n",
    "                a_date = datetime.date(datetime.strptime(str(row[column_index]), '%m/%d/%Y'))\n",
    "                # %Y: year is 2016; %y: year is 15\n",
    "                a_date = a_date.strftime('%Y-%m-%d')\n",
    "                data.append(a_date)\n",
    "        print(data)\n",
    "        c.execute(\"\"\"INSERT INTO Suppliers VALUES (%s, %s, %s, %s, %s);\"\"\", data)\n",
    "    con.commit()\n",
    "\n",
    "    # 查询Suppliers表，输出结果\n",
    "    c.execute(\"SELECT * FROM Suppliers\")\n",
    "    rows = c.fetchall()\n",
    "    for row in rows:\n",
    "        row_list_output = [] #循环输出\n",
    "        for column_index in range(len(row)):\n",
    "            row_list_output.append(str(row[column_index]))\n",
    "        print(row_list_output)\n",
    "\n",
    "#csvDataToMySQL('supplier_data.csv')"
   ]
  },
  {
   "cell_type": "markdown",
   "metadata": {},
   "source": [
    "上面的代码将数据从 CSV 文件中插入到MySQL的数据表中，然后展示表中的数据。MySQLdb 模块的 connect() 方法用于连接存在的数据库 my_suppliers，MySQL 建立的数据库就像一台独立计算机（服务器） ，你可以向数据库请求连接、发送数据和请求数据。在连接时，需要指定一些通用参数，包括 计算机主机名、端口号、输入用户名和密码。代码中的datetime 库用于处理输入文件中最后一列的日期数据进行处理和格式化。str(row[column_index]).lstrip('$').replace(',', '').strip() 部分处理掉美元符号$使得价格能变成数字格式。之后的代码和上一篇笔记非常相似，比较容易理解。\n",
    "\n",
    "\n",
    "## 查询一个表并将输出写入CSV文件\n",
    "\n",
    "数据表中有了数据之后，最常见的下一个步骤就是使用查询从表中取出一组数据，用来进行分析或满足某种商业需求。书中举的例子是：\n",
    "\n",
    "> 你可能想知道哪些客户提供了最多的利润，或者哪些费用超过了具体的阈值。我们想找出 Cost 列中的值大于 1000.00的所有记录，并将这些记录所有列中的值输出。\n",
    "\n",
    "下面的代码基于这个需求："
   ]
  },
  {
   "cell_type": "code",
   "execution_count": 2,
   "metadata": {
    "collapsed": true
   },
   "outputs": [],
   "source": [
    "def mysqlDataToCsvFile(outFile):\n",
    "    import csv\n",
    "    import MySQLdb\n",
    "\n",
    "    # 连接MySQL数据库 my_suppliers\n",
    "    con = MySQLdb.connect(host='localhost', port=3306, db='my_suppliers',user='root', passwd='my_password')\n",
    "    c = con.cursor()\n",
    "\n",
    "    # 创建写文件的对象， 并写入标题行 \n",
    "    filewriter = csv.writer(open(outFile, 'w', newline=''), delimiter=',')\n",
    "    header = ['Supplier Name','Invoice Number','Part Number','Cost','Purchase Date']\n",
    "    filewriter.writerow(header)\n",
    "\n",
    "    # 执行查询，写入csv\n",
    "    c.execute(\"\"\"SELECT * FROM Suppliers WHERE Cost > 700.0;\"\"\")\n",
    "    rows = c.fetchall()\n",
    "    for row in rows:\n",
    "        filewriter.writerow(row)\n",
    "    filewriter.close()\n",
    "    \n",
    "#mysqlDataToCsvFile('mysqlToCSVout2018.csv')"
   ]
  },
  {
   "cell_type": "markdown",
   "metadata": {},
   "source": [
    "## 更新表中记录\n",
    "\n",
    "说明两个例子讲了读取csv写入到数据库和读取数据库特定行到csv，用到了增加数据和查询数据的SQL，有些时候，我们不需要向表中加载新数据或做查询，而是需要更新表中已有的行。这个需求也比较容易实现，整体代码框架可以不变，只需要把INSERT 语句改变为 UPDATE 语句。具体是读取csv时，对于 CSV 输入文件中的每一行数据运行一次 SQL 语句进行对应和更新。还是关键要熟悉 UPDATE 语句，其他可以使用**向表中插入新记录**节的框架。"
   ]
  },
  {
   "cell_type": "code",
   "execution_count": 3,
   "metadata": {
    "collapsed": true
   },
   "outputs": [],
   "source": [
    "def updateMySQL(input_file):\n",
    "    import csv\n",
    "    import MySQLdb\n",
    "    #连接 my_suppliers\n",
    "    con = MySQLdb.connect(host='localhost', port=3306, db='my_suppliers',user='root', passwd='password')\n",
    "    c = con.cursor()\n",
    "\n",
    "    #读入csv\n",
    "    file_reader = csv.reader(open(input_file, 'r', newline=''), delimiter=',')\n",
    "    header = next(file_reader, None)\n",
    "    for row in file_reader:\n",
    "        data = []\n",
    "        for column_index in range(len(header)):\n",
    "            data.append(str(row[column_index]).strip())\n",
    "        print(data)\n",
    "        c.execute(\"\"\"UPDATE Suppliers SET Cost=%s, Purchase_Date=%s WHERE Supplier_Name=%s;\"\"\", data)\n",
    "    con.commit()\n",
    "\n",
    "#updateMySQL('input_suppliers.csv')"
   ]
  },
  {
   "cell_type": "markdown",
   "metadata": {},
   "source": [
    "MySQL的操作就记录到这里，对于数据分析师来说，一般会更经常地在命令行或者通过GUI用SQL语句操作数据库，当然通过Python等能更好地自动化查询和更新，因此本篇笔记是很重要的。回顾之前的内容，这系列笔记通过4篇笔记从简单到复杂讲了csv/Excel文件以及数据库的读取和写入。数据的输入和保存基本就是这些内容，理解思路很重要。"
   ]
  },
  {
   "cell_type": "code",
   "execution_count": null,
   "metadata": {
    "collapsed": true
   },
   "outputs": [],
   "source": []
  }
 ],
 "metadata": {
  "kernelspec": {
   "display_name": "Python 3",
   "language": "python",
   "name": "python3"
  },
  "language_info": {
   "codemirror_mode": {
    "name": "ipython",
    "version": 3
   },
   "file_extension": ".py",
   "mimetype": "text/x-python",
   "name": "python",
   "nbconvert_exporter": "python",
   "pygments_lexer": "ipython3",
   "version": "3.6.0"
  }
 },
 "nbformat": 4,
 "nbformat_minor": 2
}
