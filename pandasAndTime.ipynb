{
 "cells": [
  {
   "cell_type": "markdown",
   "metadata": {},
   "source": [
    "## 基于pandas实现时间格式的处理\n",
    "\n",
    "不导入time、datetime等模块，直接用pandas处理Excel中的时间数据\n",
    "\n",
    "基础知识点可以看自己的整理：https://github.com/QLWeilcf/mindmapNotes/blob/master/pandasAndTime.xmind"
   ]
  },
  {
   "cell_type": "code",
   "execution_count": null,
   "metadata": {},
   "outputs": [],
   "source": []
  },
  {
   "cell_type": "code",
   "execution_count": null,
   "metadata": {},
   "outputs": [],
   "source": []
  },
  {
   "cell_type": "markdown",
   "metadata": {},
   "source": [
    "### 早午晚餐消费切分\n",
    "\n",
    "- 读入数据，转换某列为时间类型\n",
    "- 早午晚餐分类\n",
    "- 时间间隔计算\n",
    "- 绘制箱线图"
   ]
  },
  {
   "cell_type": "code",
   "execution_count": 2,
   "metadata": {},
   "outputs": [],
   "source": [
    "import pandas as pd"
   ]
  },
  {
   "cell_type": "code",
   "execution_count": 3,
   "metadata": {},
   "outputs": [
    {
     "data": {
      "text/html": [
       "<div>\n",
       "<style scoped>\n",
       "    .dataframe tbody tr th:only-of-type {\n",
       "        vertical-align: middle;\n",
       "    }\n",
       "\n",
       "    .dataframe tbody tr th {\n",
       "        vertical-align: top;\n",
       "    }\n",
       "\n",
       "    .dataframe thead th {\n",
       "        text-align: right;\n",
       "    }\n",
       "</style>\n",
       "<table border=\"1\" class=\"dataframe\">\n",
       "  <thead>\n",
       "    <tr style=\"text-align: right;\">\n",
       "      <th></th>\n",
       "      <th>子类</th>\n",
       "      <th>人员</th>\n",
       "      <th>日期</th>\n",
       "    </tr>\n",
       "  </thead>\n",
       "  <tbody>\n",
       "    <tr>\n",
       "      <th>0</th>\n",
       "      <td>早午晚餐</td>\n",
       "      <td>本人</td>\n",
       "      <td>2018-12-31 17:03:26</td>\n",
       "    </tr>\n",
       "    <tr>\n",
       "      <th>1</th>\n",
       "      <td>早午晚餐</td>\n",
       "      <td>本人</td>\n",
       "      <td>2018-12-31 11:35:02</td>\n",
       "    </tr>\n",
       "  </tbody>\n",
       "</table>\n",
       "</div>"
      ],
      "text/plain": [
       "     子类  人员                   日期\n",
       "0  早午晚餐  本人  2018-12-31 17:03:26\n",
       "1  早午晚餐  本人  2018-12-31 11:35:02"
      ]
     },
     "execution_count": 3,
     "metadata": {},
     "output_type": "execute_result"
    }
   ],
   "source": [
    "df=pd.read_excel('cost-data-2018.xls')\n",
    "df.head(2)  #读入数据"
   ]
  },
  {
   "cell_type": "code",
   "execution_count": 6,
   "metadata": {},
   "outputs": [
    {
     "data": {
      "text/plain": [
       "str"
      ]
     },
     "execution_count": 6,
     "metadata": {},
     "output_type": "execute_result"
    }
   ],
   "source": [
    "type(df['日期'][0]) #还是字符串格式"
   ]
  },
  {
   "cell_type": "code",
   "execution_count": 7,
   "metadata": {},
   "outputs": [
    {
     "data": {
      "text/plain": [
       "pandas._libs.tslibs.timestamps.Timestamp"
      ]
     },
     "execution_count": 7,
     "metadata": {},
     "output_type": "execute_result"
    }
   ],
   "source": [
    "df['消费时间']=pd.to_datetime(df['日期'])  #转换为时间类型\n",
    "type(df['消费时间'][0])"
   ]
  },
  {
   "cell_type": "code",
   "execution_count": null,
   "metadata": {},
   "outputs": [],
   "source": [
    "df=df.loc[df['子类']=='早午晚餐'] #只研究早午晚餐类型"
   ]
  },
  {
   "cell_type": "code",
   "execution_count": 11,
   "metadata": {},
   "outputs": [
    {
     "data": {
      "text/plain": [
       "'晚餐'"
      ]
     },
     "execution_count": 11,
     "metadata": {},
     "output_type": "execute_result"
    }
   ],
   "source": [
    "def eatClassing(x):#早午晚餐分类\n",
    "    if 0<=x.hour<10:\n",
    "        return '早餐'\n",
    "    elif 10<=x.hour<16:\n",
    "        return '午餐'\n",
    "    return '晚餐'\n",
    "    \n",
    "'''\n",
    "映射规则：\n",
    "type   常规   泛化\n",
    "早餐   4-9    0-10\n",
    "午餐 10:30-14 10-16\n",
    "晚餐  16-21   16-24\n",
    "'''\n",
    "eatClassing(df['消费时间'][0]) #测试"
   ]
  },
  {
   "cell_type": "code",
   "execution_count": 13,
   "metadata": {},
   "outputs": [
    {
     "data": {
      "text/html": [
       "<div>\n",
       "<style scoped>\n",
       "    .dataframe tbody tr th:only-of-type {\n",
       "        vertical-align: middle;\n",
       "    }\n",
       "\n",
       "    .dataframe tbody tr th {\n",
       "        vertical-align: top;\n",
       "    }\n",
       "\n",
       "    .dataframe thead th {\n",
       "        text-align: right;\n",
       "    }\n",
       "</style>\n",
       "<table border=\"1\" class=\"dataframe\">\n",
       "  <thead>\n",
       "    <tr style=\"text-align: right;\">\n",
       "      <th></th>\n",
       "      <th>子类</th>\n",
       "      <th>人员</th>\n",
       "      <th>日期</th>\n",
       "      <th>消费时间</th>\n",
       "      <th>ecls</th>\n",
       "    </tr>\n",
       "  </thead>\n",
       "  <tbody>\n",
       "    <tr>\n",
       "      <th>0</th>\n",
       "      <td>早午晚餐</td>\n",
       "      <td>本人</td>\n",
       "      <td>2018-12-31 17:03:26</td>\n",
       "      <td>2018-12-31 17:03:26</td>\n",
       "      <td>晚餐</td>\n",
       "    </tr>\n",
       "    <tr>\n",
       "      <th>1</th>\n",
       "      <td>早午晚餐</td>\n",
       "      <td>本人</td>\n",
       "      <td>2018-12-31 11:35:02</td>\n",
       "      <td>2018-12-31 11:35:02</td>\n",
       "      <td>午餐</td>\n",
       "    </tr>\n",
       "  </tbody>\n",
       "</table>\n",
       "</div>"
      ],
      "text/plain": [
       "     子类  人员                   日期                消费时间 ecls\n",
       "0  早午晚餐  本人  2018-12-31 17:03:26 2018-12-31 17:03:26   晚餐\n",
       "1  早午晚餐  本人  2018-12-31 11:35:02 2018-12-31 11:35:02   午餐"
      ]
     },
     "execution_count": 13,
     "metadata": {},
     "output_type": "execute_result"
    }
   ],
   "source": [
    "df['ecls']=df['消费时间'].apply(eatClassing)\n",
    "df.head(2)"
   ]
  },
  {
   "cell_type": "code",
   "execution_count": 36,
   "metadata": {},
   "outputs": [
    {
     "data": {
      "text/plain": [
       "451"
      ]
     },
     "execution_count": 36,
     "metadata": {},
     "output_type": "execute_result"
    }
   ],
   "source": [
    "\n",
    "len(df[df['ecls']=='早餐']) #2年的数据"
   ]
  },
  {
   "cell_type": "code",
   "execution_count": 45,
   "metadata": {},
   "outputs": [
    {
     "name": "stdout",
     "output_type": "stream",
     "text": [
      "201 0.5521978021978022\n"
     ]
    }
   ],
   "source": [
    "#2018吃早餐天数\n",
    "df['years']=df['消费时间'].apply(lambda x:x.year)\n",
    "sdf=df.loc[df['years']==2018]\n",
    "dd=len(sdf[sdf['ecls']=='早餐'])\n",
    "ddr=dd/(pd.Timestamp('2018-12-31')-pd.Timestamp('2018-1-1')).days #吃早餐比率\n",
    "print(dd,ddr)"
   ]
  },
  {
   "cell_type": "code",
   "execution_count": 16,
   "metadata": {},
   "outputs": [],
   "source": [
    "df['tday']=df['消费时间'].apply(lambda x:pd.Timestamp(x.strftime('%Y-%m-%d')))"
   ]
  },
  {
   "cell_type": "code",
   "execution_count": 18,
   "metadata": {},
   "outputs": [],
   "source": [
    "df['tfour']=df.apply(lambda x:(x['消费时间']-x['tday']).seconds/3600,axis=1)"
   ]
  },
  {
   "cell_type": "code",
   "execution_count": 19,
   "metadata": {},
   "outputs": [
    {
     "data": {
      "text/html": [
       "<div>\n",
       "<style scoped>\n",
       "    .dataframe tbody tr th:only-of-type {\n",
       "        vertical-align: middle;\n",
       "    }\n",
       "\n",
       "    .dataframe tbody tr th {\n",
       "        vertical-align: top;\n",
       "    }\n",
       "\n",
       "    .dataframe thead th {\n",
       "        text-align: right;\n",
       "    }\n",
       "</style>\n",
       "<table border=\"1\" class=\"dataframe\">\n",
       "  <thead>\n",
       "    <tr style=\"text-align: right;\">\n",
       "      <th></th>\n",
       "      <th>子类</th>\n",
       "      <th>人员</th>\n",
       "      <th>日期</th>\n",
       "      <th>消费时间</th>\n",
       "      <th>ecls</th>\n",
       "      <th>tday</th>\n",
       "      <th>tfour</th>\n",
       "    </tr>\n",
       "  </thead>\n",
       "  <tbody>\n",
       "    <tr>\n",
       "      <th>0</th>\n",
       "      <td>早午晚餐</td>\n",
       "      <td>本人</td>\n",
       "      <td>2018-12-31 17:03:26</td>\n",
       "      <td>2018-12-31 17:03:26</td>\n",
       "      <td>晚餐</td>\n",
       "      <td>2018-12-31</td>\n",
       "      <td>17.057222</td>\n",
       "    </tr>\n",
       "    <tr>\n",
       "      <th>1</th>\n",
       "      <td>早午晚餐</td>\n",
       "      <td>本人</td>\n",
       "      <td>2018-12-31 11:35:02</td>\n",
       "      <td>2018-12-31 11:35:02</td>\n",
       "      <td>午餐</td>\n",
       "      <td>2018-12-31</td>\n",
       "      <td>11.583889</td>\n",
       "    </tr>\n",
       "    <tr>\n",
       "      <th>2</th>\n",
       "      <td>早午晚餐</td>\n",
       "      <td>本人</td>\n",
       "      <td>2018-12-30 17:02:02</td>\n",
       "      <td>2018-12-30 17:02:02</td>\n",
       "      <td>晚餐</td>\n",
       "      <td>2018-12-30</td>\n",
       "      <td>17.033889</td>\n",
       "    </tr>\n",
       "    <tr>\n",
       "      <th>3</th>\n",
       "      <td>早午晚餐</td>\n",
       "      <td>本人</td>\n",
       "      <td>2018-12-30 11:45:25</td>\n",
       "      <td>2018-12-30 11:45:25</td>\n",
       "      <td>午餐</td>\n",
       "      <td>2018-12-30</td>\n",
       "      <td>11.756944</td>\n",
       "    </tr>\n",
       "  </tbody>\n",
       "</table>\n",
       "</div>"
      ],
      "text/plain": [
       "     子类  人员                   日期                消费时间 ecls       tday  \\\n",
       "0  早午晚餐  本人  2018-12-31 17:03:26 2018-12-31 17:03:26   晚餐 2018-12-31   \n",
       "1  早午晚餐  本人  2018-12-31 11:35:02 2018-12-31 11:35:02   午餐 2018-12-31   \n",
       "2  早午晚餐  本人  2018-12-30 17:02:02 2018-12-30 17:02:02   晚餐 2018-12-30   \n",
       "3  早午晚餐  本人  2018-12-30 11:45:25 2018-12-30 11:45:25   午餐 2018-12-30   \n",
       "\n",
       "       tfour  \n",
       "0  17.057222  \n",
       "1  11.583889  \n",
       "2  17.033889  \n",
       "3  11.756944  "
      ]
     },
     "execution_count": 19,
     "metadata": {},
     "output_type": "execute_result"
    }
   ],
   "source": [
    "df.head(4)"
   ]
  },
  {
   "cell_type": "code",
   "execution_count": 24,
   "metadata": {},
   "outputs": [
    {
     "data": {
      "text/html": [
       "<div>\n",
       "<style scoped>\n",
       "    .dataframe tbody tr th:only-of-type {\n",
       "        vertical-align: middle;\n",
       "    }\n",
       "\n",
       "    .dataframe tbody tr th {\n",
       "        vertical-align: top;\n",
       "    }\n",
       "\n",
       "    .dataframe thead th {\n",
       "        text-align: right;\n",
       "    }\n",
       "</style>\n",
       "<table border=\"1\" class=\"dataframe\">\n",
       "  <thead>\n",
       "    <tr style=\"text-align: right;\">\n",
       "      <th></th>\n",
       "      <th>子类</th>\n",
       "      <th>人员</th>\n",
       "      <th>日期</th>\n",
       "      <th>消费时间</th>\n",
       "      <th>ecls</th>\n",
       "      <th>tday</th>\n",
       "      <th>tfour</th>\n",
       "      <th>tfs</th>\n",
       "    </tr>\n",
       "  </thead>\n",
       "  <tbody>\n",
       "    <tr>\n",
       "      <th>0</th>\n",
       "      <td>早午晚餐</td>\n",
       "      <td>本人</td>\n",
       "      <td>2018-12-31 17:03:26</td>\n",
       "      <td>2018-12-31 17:03:26</td>\n",
       "      <td>晚餐</td>\n",
       "      <td>2018-12-31</td>\n",
       "      <td>17.057222</td>\n",
       "      <td>17.057222</td>\n",
       "    </tr>\n",
       "    <tr>\n",
       "      <th>1</th>\n",
       "      <td>早午晚餐</td>\n",
       "      <td>本人</td>\n",
       "      <td>2018-12-31 11:35:02</td>\n",
       "      <td>2018-12-31 11:35:02</td>\n",
       "      <td>午餐</td>\n",
       "      <td>2018-12-31</td>\n",
       "      <td>11.583889</td>\n",
       "      <td>11.583889</td>\n",
       "    </tr>\n",
       "    <tr>\n",
       "      <th>2</th>\n",
       "      <td>早午晚餐</td>\n",
       "      <td>本人</td>\n",
       "      <td>2018-12-30 17:02:02</td>\n",
       "      <td>2018-12-30 17:02:02</td>\n",
       "      <td>晚餐</td>\n",
       "      <td>2018-12-30</td>\n",
       "      <td>17.033889</td>\n",
       "      <td>17.033889</td>\n",
       "    </tr>\n",
       "    <tr>\n",
       "      <th>3</th>\n",
       "      <td>早午晚餐</td>\n",
       "      <td>本人</td>\n",
       "      <td>2018-12-30 11:45:25</td>\n",
       "      <td>2018-12-30 11:45:25</td>\n",
       "      <td>午餐</td>\n",
       "      <td>2018-12-30</td>\n",
       "      <td>11.756944</td>\n",
       "      <td>11.756944</td>\n",
       "    </tr>\n",
       "  </tbody>\n",
       "</table>\n",
       "</div>"
      ],
      "text/plain": [
       "     子类  人员                   日期                消费时间 ecls       tday  \\\n",
       "0  早午晚餐  本人  2018-12-31 17:03:26 2018-12-31 17:03:26   晚餐 2018-12-31   \n",
       "1  早午晚餐  本人  2018-12-31 11:35:02 2018-12-31 11:35:02   午餐 2018-12-31   \n",
       "2  早午晚餐  本人  2018-12-30 17:02:02 2018-12-30 17:02:02   晚餐 2018-12-30   \n",
       "3  早午晚餐  本人  2018-12-30 11:45:25 2018-12-30 11:45:25   午餐 2018-12-30   \n",
       "\n",
       "       tfour        tfs  \n",
       "0  17.057222  17.057222  \n",
       "1  11.583889  11.583889  \n",
       "2  17.033889  17.033889  \n",
       "3  11.756944  11.756944  "
      ]
     },
     "execution_count": 24,
     "metadata": {},
     "output_type": "execute_result"
    }
   ],
   "source": [
    "#好像还有更简单的方法：\n",
    "df['tfs']=df['消费时间'].apply(lambda x:x.hour+x.minute/60+x.second/3600)\n",
    "df.head(4)"
   ]
  },
  {
   "cell_type": "code",
   "execution_count": 25,
   "metadata": {},
   "outputs": [],
   "source": [
    "#绘制箱线图\n",
    "import matplotlib.pyplot as plt\n",
    "%matplotlib inline"
   ]
  },
  {
   "cell_type": "code",
   "execution_count": 26,
   "metadata": {},
   "outputs": [
    {
     "data": {
      "text/plain": [
       "<matplotlib.axes._subplots.AxesSubplot at 0x7f80e52619b0>"
      ]
     },
     "execution_count": 26,
     "metadata": {},
     "output_type": "execute_result"
    },
    {
     "data": {
      "image/png": "[encoded data removed]",
      "text/plain": [
       "<Figure size 432x288 with 1 Axes>"
      ]
     },
     "metadata": {},
     "output_type": "display_data"
    }
   ],
   "source": [
    "mor=df[df['ecls']=='早餐']\n",
    "mor.boxplot()"
   ]
  },
  {
   "cell_type": "code",
   "execution_count": 27,
   "metadata": {},
   "outputs": [
    {
     "data": {
      "text/plain": [
       "<matplotlib.axes._subplots.AxesSubplot at 0x7f80e167db00>"
      ]
     },
     "execution_count": 27,
     "metadata": {},
     "output_type": "execute_result"
    },
    {
     "data": {
      "image/png": "[encoded data removed]",
      "text/plain": [
       "<Figure size 432x288 with 1 Axes>"
      ]
     },
     "metadata": {},
     "output_type": "display_data"
    }
   ],
   "source": [
    "import matplotlib.pyplot as plt\n",
    "%matplotlib inline\n",
    "mor=df.loc[df['ecls']=='早餐',['tfs']]\n",
    "mor.boxplot()\n",
    "#可以看到集中在7.45~9点吃早餐"
   ]
  },
  {
   "cell_type": "code",
   "execution_count": 32,
   "metadata": {},
   "outputs": [
    {
     "data": {
      "text/plain": [
       "<matplotlib.axes._subplots.AxesSubplot at 0x7f80d8103908>"
      ]
     },
     "execution_count": 32,
     "metadata": {},
     "output_type": "execute_result"
    },
    {
     "data": {
      "image/png": "[encoded data removed]",
      "text/plain": [
       "<Figure size 432x288 with 1 Axes>"
      ]
     },
     "metadata": {},
     "output_type": "display_data"
    }
   ],
   "source": [
    "mor1=df.loc[df['ecls']=='午餐',['tfs']]\n",
    "mor1.boxplot()"
   ]
  },
  {
   "cell_type": "code",
   "execution_count": 33,
   "metadata": {},
   "outputs": [
    {
     "data": {
      "text/plain": [
       "<matplotlib.axes._subplots.AxesSubplot at 0x7f80d8086400>"
      ]
     },
     "execution_count": 33,
     "metadata": {},
     "output_type": "execute_result"
    },
    {
     "data": {
      "image/png": "[encoded data removed]",
      "text/plain": [
       "<Figure size 432x288 with 1 Axes>"
      ]
     },
     "metadata": {},
     "output_type": "display_data"
    }
   ],
   "source": [
    "mor2=df.loc[df['ecls']=='晚餐',['tfs']]\n",
    "mor2.boxplot()"
   ]
  },
  {
   "cell_type": "code",
   "execution_count": null,
   "metadata": {},
   "outputs": [],
   "source": []
  },
  {
   "cell_type": "code",
   "execution_count": 31,
   "metadata": {},
   "outputs": [
    {
     "data": {
      "text/plain": [
       "<matplotlib.axes._subplots.AxesSubplot at 0x7f80d813e320>"
      ]
     },
     "execution_count": 31,
     "metadata": {},
     "output_type": "execute_result"
    },
    {
     "data": {
      "image/png": "[encoded data removed]",
      "text/plain": [
       "<Figure size 432x288 with 1 Axes>"
      ]
     },
     "metadata": {},
     "output_type": "display_data"
    }
   ],
   "source": [
    "# 绘制小提琴图（violinplot）\n",
    "import seaborn as sns\n",
    "vdf=df.sort_values(by=['消费时间'])\n",
    "sns.set(style=\"whitegrid\",palette=\"pastel\",color_codes='ture')\n",
    "sns.violinplot(x=\"ecls\", y=\"tfs\", data=vdf, split=True,inner=\"quart\")"
   ]
  },
  {
   "cell_type": "markdown",
   "metadata": {},
   "source": [
    "对比以上结果，可以看到的是：早餐时间不够固定，波动较大，而晚餐是最稳定的，基本集中在17~17:30这个区间；午餐有两个集中的时间，11点和12点10分"
   ]
  },
  {
   "cell_type": "code",
   "execution_count": 34,
   "metadata": {},
   "outputs": [
    {
     "data": {
      "text/plain": [
       "<matplotlib.axes._subplots.AxesSubplot at 0x7f80d806f0f0>"
      ]
     },
     "execution_count": 34,
     "metadata": {},
     "output_type": "execute_result"
    },
    {
     "data": {
      "image/png": "[encoded data removed]",
      "text/plain": [
       "<Figure size 432x288 with 1 Axes>"
      ]
     },
     "metadata": {},
     "output_type": "display_data"
    }
   ],
   "source": [
    "#因为matplotlib对中文支持不是很好，就转换为英文版的\n",
    "k={'早餐':'breakfast','午餐':'lunch','晚餐':'dinner'}\n",
    "vdf['eclass']=vdf['ecls'].apply(lambda x:k[x])\n",
    "\n",
    "sns.violinplot(x=\"eclass\", y=\"tfs\", data=vdf, split=True,inner=\"quart\")"
   ]
  },
  {
   "cell_type": "code",
   "execution_count": null,
   "metadata": {},
   "outputs": [],
   "source": []
  },
  {
   "cell_type": "markdown",
   "metadata": {},
   "source": [
    "## 基于pandas的时间序列\n",
    "官网说：\n",
    "> class pandas.Timestamp\n",
    "\n",
    "> Pandas replacement for python datetime.datetime object.\n",
    "\n",
    "### 获取当前时刻的时间"
   ]
  },
  {
   "cell_type": "code",
   "execution_count": 46,
   "metadata": {},
   "outputs": [
    {
     "data": {
      "text/plain": [
       "Timestamp('2019-09-26 00:26:34.989516')"
      ]
     },
     "execution_count": 46,
     "metadata": {},
     "output_type": "execute_result"
    }
   ],
   "source": [
    "pd.Timestamp.today()"
   ]
  },
  {
   "cell_type": "code",
   "execution_count": 47,
   "metadata": {},
   "outputs": [
    {
     "data": {
      "text/plain": [
       "Timestamp('2019-09-26 00:26:43.299497')"
      ]
     },
     "execution_count": 47,
     "metadata": {},
     "output_type": "execute_result"
    }
   ],
   "source": [
    "pd.Timestamp.now()"
   ]
  },
  {
   "cell_type": "code",
   "execution_count": 48,
   "metadata": {},
   "outputs": [
    {
     "data": {
      "text/plain": [
       "2019"
      ]
     },
     "execution_count": 48,
     "metadata": {},
     "output_type": "execute_result"
    }
   ],
   "source": [
    "now=pd.Timestamp.now()\n",
    "now.year"
   ]
  },
  {
   "cell_type": "code",
   "execution_count": 49,
   "metadata": {},
   "outputs": [
    {
     "name": "stdout",
     "output_type": "stream",
     "text": [
      "2019 9 26\n"
     ]
    }
   ],
   "source": [
    "print(now.year,now.month,now.day)"
   ]
  },
  {
   "cell_type": "code",
   "execution_count": 64,
   "metadata": {},
   "outputs": [
    {
     "data": {
      "text/plain": [
       "3"
      ]
     },
     "execution_count": 64,
     "metadata": {},
     "output_type": "execute_result"
    }
   ],
   "source": [
    "now.weekday()"
   ]
  },
  {
   "cell_type": "code",
   "execution_count": 51,
   "metadata": {},
   "outputs": [
    {
     "data": {
      "text/plain": [
       "3"
      ]
     },
     "execution_count": 51,
     "metadata": {},
     "output_type": "execute_result"
    }
   ],
   "source": [
    "now.dayofweek # 本周第几天；这个是从0计数的，周一是0，周日是6；周三是2"
   ]
  },
  {
   "cell_type": "code",
   "execution_count": 52,
   "metadata": {},
   "outputs": [
    {
     "data": {
      "text/plain": [
       "39"
      ]
     },
     "execution_count": 52,
     "metadata": {},
     "output_type": "execute_result"
    }
   ],
   "source": [
    "now.weekofyear   #当前时刻所在周数；2019年的第39周"
   ]
  },
  {
   "cell_type": "code",
   "execution_count": 53,
   "metadata": {},
   "outputs": [
    {
     "data": {
      "text/plain": [
       "datetime.date(2019, 9, 26)"
      ]
     },
     "execution_count": 53,
     "metadata": {},
     "output_type": "execute_result"
    }
   ],
   "source": [
    "#指定日期和时间格式\n",
    "#只展示年月日\n",
    "now.date()"
   ]
  },
  {
   "cell_type": "code",
   "execution_count": 54,
   "metadata": {},
   "outputs": [
    {
     "data": {
      "text/plain": [
       "'2019/09/26'"
      ]
     },
     "execution_count": 54,
     "metadata": {},
     "output_type": "execute_result"
    }
   ],
   "source": [
    "now.strftime('%Y/%m/%d') #转成特定字符串"
   ]
  },
  {
   "cell_type": "code",
   "execution_count": 55,
   "metadata": {},
   "outputs": [
    {
     "data": {
      "text/plain": [
       "Timestamp('2019-09-26 00:00:00')"
      ]
     },
     "execution_count": 55,
     "metadata": {},
     "output_type": "execute_result"
    }
   ],
   "source": [
    "pd.Timestamp.strptime(now.strftime('%Y/%m/%d'),'%Y/%m/%d')\n",
    "#strptime和strftime是对立的，strptime将特定格式的字符串形式的时间数据转为timestamp对象；\n",
    "#另外直接对一列操作可以用 df['消费时间']=pd.to_datetime(df['日期']) 也很好用"
   ]
  },
  {
   "cell_type": "code",
   "execution_count": null,
   "metadata": {},
   "outputs": [],
   "source": [
    "# 时间索引\n",
    "#用ppd.DatetimeIndex 或通过 df['years']=df['时间'].apply(lambda x:x.year) 新建一列年份来做索引\n",
    "df['years']=df['消费时间'].apply(lambda x:x.year)"
   ]
  },
  {
   "cell_type": "markdown",
   "metadata": {},
   "source": [
    "### 时间运算\n",
    "#### 时间差值"
   ]
  },
  {
   "cell_type": "code",
   "execution_count": 56,
   "metadata": {},
   "outputs": [
    {
     "data": {
      "text/plain": [
       "Timedelta('3 days 00:27:19.338377')"
      ]
     },
     "execution_count": 56,
     "metadata": {},
     "output_type": "execute_result"
    }
   ],
   "source": [
    "#两个timestamp对象可以直接相减；时间戳减时间戳得到时间间隔（不能时间戳+时间戳)\n",
    "#时间戳减时间间隔得到新的时间戳；时间间隔之间可以互相加减\n",
    "now-pd.Timestamp('2019-9-23')"
   ]
  },
  {
   "cell_type": "code",
   "execution_count": 57,
   "metadata": {},
   "outputs": [
    {
     "data": {
      "text/plain": [
       "3"
      ]
     },
     "execution_count": 57,
     "metadata": {},
     "output_type": "execute_result"
    }
   ],
   "source": [
    "cha=now-pd.Timestamp('2019-9-23')\n",
    "cha.days  #注意是days不是day"
   ]
  },
  {
   "cell_type": "code",
   "execution_count": 58,
   "metadata": {},
   "outputs": [
    {
     "data": {
      "text/plain": [
       "1639"
      ]
     },
     "execution_count": 58,
     "metadata": {},
     "output_type": "execute_result"
    }
   ],
   "source": [
    "cha.seconds"
   ]
  },
  {
   "cell_type": "code",
   "execution_count": 60,
   "metadata": {},
   "outputs": [
    {
     "data": {
      "text/plain": [
       "260839.338377"
      ]
     },
     "execution_count": 60,
     "metadata": {},
     "output_type": "execute_result"
    }
   ],
   "source": [
    "cha.total_seconds() #区分这个和seconds"
   ]
  },
  {
   "cell_type": "code",
   "execution_count": 61,
   "metadata": {},
   "outputs": [
    {
     "data": {
      "text/plain": [
       "43200"
      ]
     },
     "execution_count": 61,
     "metadata": {},
     "output_type": "execute_result"
    }
   ],
   "source": [
    "#seconds的秒时间，不包括天的部分；\n",
    "pd.Timedelta(1.5,unit='d').seconds #是43200而非129600 total_seconds()是129600"
   ]
  },
  {
   "cell_type": "markdown",
   "metadata": {},
   "source": [
    "#### 时间偏移\n",
    "也是用Timedelta实现；\n",
    "或者用pd.tseries.offsets "
   ]
  },
  {
   "cell_type": "code",
   "execution_count": 65,
   "metadata": {},
   "outputs": [
    {
     "data": {
      "text/plain": [
       "Timestamp('2019-09-25 00:27:19.338377')"
      ]
     },
     "execution_count": 65,
     "metadata": {},
     "output_type": "execute_result"
    }
   ],
   "source": [
    "now-pd.Timedelta(1,unit='d') #往前推一天"
   ]
  },
  {
   "cell_type": "code",
   "execution_count": 63,
   "metadata": {},
   "outputs": [
    {
     "data": {
      "text/plain": [
       "Timestamp('2020-07-26 09:18:19.338377')"
      ]
     },
     "execution_count": 63,
     "metadata": {},
     "output_type": "execute_result"
    }
   ],
   "source": [
    "now+pd.Timedelta(10,unit='M') #往后推10分钟"
   ]
  },
  {
   "cell_type": "code",
   "execution_count": null,
   "metadata": {},
   "outputs": [],
   "source": []
  },
  {
   "cell_type": "markdown",
   "metadata": {},
   "source": [
    "## 参考资料\n",
    "- https://pandas.pydata.org/pandas-docs/stable/reference/api/pandas.Timestamp.html\n",
    "- https://pandas.pydata.org/pandas-docs/stable/reference/api/pandas.Timedelta.html\n"
   ]
  }
 ],
 "metadata": {
  "kernelspec": {
   "display_name": "Python 3",
   "language": "python",
   "name": "python3"
  },
  "language_info": {
   "codemirror_mode": {
    "name": "ipython",
    "version": 3
   },
   "file_extension": ".py",
   "mimetype": "text/x-python",
   "name": "python",
   "nbconvert_exporter": "python",
   "pygments_lexer": "ipython3",
   "version": "3.6.5"
  }
 },
 "nbformat": 4,
 "nbformat_minor": 2
}
