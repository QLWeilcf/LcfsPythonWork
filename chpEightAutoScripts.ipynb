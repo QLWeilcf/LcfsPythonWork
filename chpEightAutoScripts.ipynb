{
 "cells": [
  {
   "cell_type": "markdown",
   "metadata": {},
   "source": [
    "目前我们写出的Python代码，无论是jupyter notebook里还是变成.py格式的脚本，都是需要手动点按钮运行，但是在有些需要自动化定期运行脚本的情况怎么办呢？《Python数据分析基础》用一个简短的章节介绍了实现方法。思路就是利用 Windows 系统或 macOS 系统中可定期运行脚本和其他可执行文件的程序。微软称这个程序为 Task Scheduler（任务计划程序） ；在 Unix 系统和 macOS 系统中，这样的程序称为 cron（定时任务） 。本笔记只实现Windows 10系统的自动化，macOS系统可以仔细去看原书，或者网上找其他教程。\n",
    "\n"
   ]
  },
  {
   "cell_type": "markdown",
   "metadata": {},
   "source": [
    "\n",
    "和原书一样，这篇笔记也是用**第5章 应用程序**写的处理MySQL报错日志的代码。由于我之前是写在jupyter notebook里的，先导出代码到文本文件里，命名为autoParseMySQLlog.py。后面基本都是通过截图说明，文字会相对较少（也只有一段补充代码）。\n",
    "原书是通过*控制面板→系统和安全→管理工具*去找任务计划程序，我觉得Win10还有更简便的方法去找，那就是用Cortana输入Task Scheduler去找。\n",
    "\n",
    "![通过Cortana找Task Scheduler](./dsIpynbPic/task_scheduler_cortana.png)\n",
    "\n"
   ]
  },
  {
   "cell_type": "markdown",
   "metadata": {},
   "source": [
    "\n",
    "找到之后我们点开任务计划程序，看到的界面如下，如果打开时需要输入电脑账户的密码就输入验证一下。\n",
    "\n",
    "![task_scheduler_show.png](./dsIpynbPic/task_scheduler_show.png)\n",
    "\n",
    "看到任务计划程序的界面后，点击左上角的“操作”菜单，然后点击“创建基本任务”，然后看到“创建基本任务向导”界面，如下：\n",
    "\n",
    "![创建基本任务向导界面](./dsIpynbPic/task_scheduler_show2.png)\n",
    "\n"
   ]
  },
  {
   "cell_type": "markdown",
   "metadata": {},
   "source": [
    "在创建基本任务向导界面输入任务名称和任务描述（似乎都只能是英文）后，点击下一步，选择任务触发的条件，我选择的是每天执行。\n",
    "\n",
    "![任务触发条件设置](./dsIpynbPic/task_scheduler_show3.png)\n",
    "\n",
    "设置任务每天执行后，填写每天执行的时间：\n",
    "\n",
    "![每天执行时间](./dsIpynbPic/task_scheduler_show4.png)\n",
    "\n",
    "执行的操作选择“启动程序”\n",
    "\n",
    "![任务执行的操作](./dsIpynbPic/task_scheduler_show5.png)\n",
    "\n",
    "选择脚本保存的路径，因为我是把传入的参数直接写到代码里的，所以添加参数部分留空。\n",
    "\n",
    "![选择程序所在路径](./dsIpynbPic/task_scheduler_show6.png)\n",
    "\n",
    "再点击下一步就到完成界面了。"
   ]
  },
  {
   "cell_type": "markdown",
   "metadata": {},
   "source": [
    "\n",
    "\n",
    "![完成设置](./dsIpynbPic/task_scheduler_show5.png)\n",
    "\n",
    "> 通过按计划自动地定期运行 Python 脚本和其他可执行文件，你可以消除忘记手动运行脚本的可能。此外，相对于手动运行脚本，你可以通过自动运行脚本极大地提高工作效率。当你的业务对数据处理与分析脚本越来越依赖时，手动运行脚本的方式会更加不可行。\n",
    "\n",
    "因为我不想每天的数据都写到同一个csv文件里，所以设置了一下输出文件的名称，这样可以得到一系列文件，要做统计可以用到**应用程序**部分笔记里的代码。"
   ]
  },
  {
   "cell_type": "code",
   "execution_count": 2,
   "metadata": {
    "collapsed": false
   },
   "outputs": [
    {
     "ename": "NameError",
     "evalue": "name 'parseTextFile' is not defined",
     "output_type": "error",
     "traceback": [
      "\u001b[0;31m---------------------------------------------------------------------------\u001b[0m",
      "\u001b[0;31mNameError\u001b[0m                                 Traceback (most recent call last)",
      "\u001b[0;32m<ipython-input-2-766f4db696d2>\u001b[0m in \u001b[0;36m<module>\u001b[0;34m()\u001b[0m\n\u001b[1;32m      4\u001b[0m \u001b[0min_f\u001b[0m\u001b[1;33m=\u001b[0m\u001b[1;34m'./mysql_server_error_log.txt'\u001b[0m\u001b[1;33m\u001b[0m\u001b[0m\n\u001b[1;32m      5\u001b[0m \u001b[0mout_f\u001b[0m\u001b[1;33m=\u001b[0m\u001b[1;34m'error_log_out'\u001b[0m\u001b[1;33m+\u001b[0m\u001b[0mk\u001b[0m\u001b[1;33m+\u001b[0m\u001b[1;34m'.csv'\u001b[0m\u001b[1;33m\u001b[0m\u001b[0m\n\u001b[0;32m----> 6\u001b[0;31m \u001b[0mparseTextFile\u001b[0m\u001b[1;33m(\u001b[0m\u001b[0min_f\u001b[0m\u001b[1;33m,\u001b[0m\u001b[0mout_f\u001b[0m\u001b[1;33m)\u001b[0m \u001b[1;31m#调用\u001b[0m\u001b[1;33m\u001b[0m\u001b[0m\n\u001b[0m\u001b[1;32m      7\u001b[0m \u001b[1;33m\u001b[0m\u001b[0m\n\u001b[1;32m      8\u001b[0m \u001b[1;31m#这里并没有 parseTextFile的完整代码，当然会报错，\u001b[0m\u001b[1;33m\u001b[0m\u001b[1;33m\u001b[0m\u001b[0m\n",
      "\u001b[0;31mNameError\u001b[0m: name 'parseTextFile' is not defined"
     ]
    }
   ],
   "source": [
    "from datetime import datetime\n",
    "now=datetime.now()\n",
    "k=now.strftime('_%Y_%m_%d_%H_%M') #年 月 日 小时 分\n",
    "in_f='./mysql_server_error_log.txt'\n",
    "out_f='error_log_out'+k+'.csv'\n",
    "parseTextFile(in_f,out_f) #调用\n",
    "\n",
    "#这里并没有 parseTextFile的完整代码，当然会报错，\n",
    "#代码参考应用程序的部分：chpFiveSmallApplct.ipynb"
   ]
  },
  {
   "cell_type": "markdown",
   "metadata": {},
   "source": [
    "这样我们就完成了Windows系统的程序自动运行设置了，macOS 系统的cron（定时任务）请参考原书第215页~218页。"
   ]
  }
 ],
 "metadata": {
  "kernelspec": {
   "display_name": "Python 3",
   "language": "python",
   "name": "python3"
  },
  "language_info": {
   "codemirror_mode": {
    "name": "ipython",
    "version": 3
   },
   "file_extension": ".py",
   "mimetype": "text/x-python",
   "name": "python",
   "nbconvert_exporter": "python",
   "pygments_lexer": "ipython3",
   "version": "3.6.0"
  }
 },
 "nbformat": 4,
 "nbformat_minor": 2
}
